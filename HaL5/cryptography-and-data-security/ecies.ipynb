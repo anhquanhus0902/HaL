{
 "cells": [
  {
   "cell_type": "code",
   "execution_count": null,
   "metadata": {
    "collapsed": false
   },
   "outputs": [],
   "source": [
    "import collections\n",
    "import hashlib\n",
    "import random\n",
    "import binascii\n",
    "import sys\n",
    "from Crypto.Cipher import AES\n",
    "import Padding"
   ]
  },
  {
   "cell_type": "code",
   "execution_count": 6,
   "metadata": {
    "collapsed": false
   },
   "outputs": [],
   "source": [
    "def enc_long(n):\n",
    "    s = \"\"\n",
    "    while n > 0:\n",
    "        s = chr(n & 0xFF) + s\n",
    "        n >>= 8\n",
    "    return s"
   ]
  },
  {
   "cell_type": "code",
   "execution_count": 7,
   "metadata": {
    "collapsed": false
   },
   "outputs": [],
   "source": [
    "BLOCK_SIZE = 16\n",
    "pad = lambda s: s + (BLOCK_SIZE - len(s) % BLOCK_SIZE) * \\\n",
    "                chr(BLOCK_SIZE - len(s) % BLOCK_SIZE)\n",
    "unpad = lambda s: s[:-ord(s[len(s) - 1:])]"
   ]
  },
  {
   "cell_type": "code",
   "execution_count": 8,
   "metadata": {
    "collapsed": false
   },
   "outputs": [],
   "source": [
    "def encrypt(plaintext,key, mode):\n",
    "    encobj = AES.new(key,mode)\n",
    "    return(encobj.encrypt(plaintext))\n"
   ]
  },
  {
   "cell_type": "code",
   "execution_count": 9,
   "metadata": {
    "collapsed": false
   },
   "outputs": [],
   "source": [
    "def decrypt(ciphertext,key, mode):\n",
    "    encobj = AES.new(key,mode)\n",
    "    return(encobj.decrypt(ciphertext))"
   ]
  },
  {
   "cell_type": "code",
   "execution_count": 10,
   "metadata": {
    "collapsed": false
   },
   "outputs": [],
   "source": [
    "EllipticCurve = collections.namedtuple('EllipticCurve', 'name p a b g n h')"
   ]
  },
  {
   "cell_type": "code",
   "execution_count": 11,
   "metadata": {
    "collapsed": false
   },
   "outputs": [],
   "source": [
    "curve = EllipticCurve(\n",
    "    'secp256k1',\n",
    "    # Field characteristic.\n",
    "    p=0xfffffffffffffffffffffffffffffffffffffffffffffffffffffffefffffc2f,\n",
    "    # Curve coefficients.\n",
    "    a=0,\n",
    "    b=7,\n",
    "    # Base point.\n",
    "    g=(0x79be667ef9dcbbac55a06295ce870b07029bfcdb2dce28d959f2815b16f81798,\n",
    "       0x483ada7726a3c4655da4fbfc0e1108a8fd17b448a68554199c47d08ffb10d4b8),\n",
    "    # Subgroup order.\n",
    "    n=0xfffffffffffffffffffffffffffffffebaaedce6af48a03bbfd25e8cd0364141,\n",
    "    # Subgroup cofactor.\n",
    "    h=1,\n",
    ")"
   ]
  },
  {
   "cell_type": "code",
   "execution_count": 12,
   "metadata": {
    "collapsed": false
   },
   "outputs": [],
   "source": [
    "def is_on_curve(point):\n",
    "    if point is None:\n",
    "        return True\n",
    "    x, y = point\n",
    "    return (y * y - x * x * x - curve.a * x - curve.b) % curve.p == 0"
   ]
  },
  {
   "cell_type": "code",
   "execution_count": 13,
   "metadata": {
    "collapsed": false
   },
   "outputs": [],
   "source": [
    "def point_neg(point):\n",
    "    assert is_on_curve(point)\n",
    "    if point is None:\n",
    "        return None\n",
    "    x, y = point\n",
    "    result = (x, -y % curve.p)\n",
    "    assert is_on_curve(result)\n",
    "    return result"
   ]
  },
  {
   "cell_type": "code",
   "execution_count": 14,
   "metadata": {
    "collapsed": false
   },
   "outputs": [],
   "source": [
    "def point_add(point1, point2):\n",
    "    assert is_on_curve(point1)\n",
    "    assert is_on_curve(point2)\n",
    "\n",
    "    if point1 is None:\n",
    "        return point2\n",
    "    if point2 is None:\n",
    "        return point1\n",
    "\n",
    "    x1, y1 = point1\n",
    "    x2, y2 = point2\n",
    "\n",
    "    if x1 == x2 and y1 != y2:\n",
    "        return None\n",
    "\n",
    "    if x1 == x2:\n",
    "        m = (3 * x1 * x1 + curve.a) * inverse_mod(2 * y1, curve.p)\n",
    "    else:\n",
    "        m = (y1 - y2) * inverse_mod(x1 - x2, curve.p)\n",
    "\n",
    "    x3 = m * m - x1 - x2\n",
    "    y3 = y1 + m * (x3 - x1)\n",
    "    result = (x3 % curve.p,-y3 % curve.p)\n",
    "\n",
    "    assert is_on_curve(result)\n",
    "    return result"
   ]
  },
  {
   "cell_type": "code",
   "execution_count": 15,
   "metadata": {
    "collapsed": false
   },
   "outputs": [],
   "source": [
    "def scalar_mult(k, point):\n",
    "    assert is_on_curve(point)\n",
    "\n",
    "    if k % curve.n == 0 or point is None:\n",
    "        return None\n",
    "\n",
    "    if k < 0:\n",
    "        return scalar_mult(-k, point_neg(point))\n",
    "\n",
    "    result = None\n",
    "    addend = point\n",
    "\n",
    "    while k:\n",
    "        if k & 1:\n",
    "            result = point_add(result, addend)\n",
    "        addend = point_add(addend, addend)\n",
    "        k >>= 1\n",
    "\n",
    "    assert is_on_curve(result)\n",
    "    return result"
   ]
  },
  {
   "cell_type": "code",
   "execution_count": 16,
   "metadata": {
    "collapsed": false
   },
   "outputs": [],
   "source": [
    "def make_keypair():\n",
    "    private_key = random.randrange(1, curve.n)\n",
    "    public_key = scalar_mult(private_key, curve.g)\n",
    "    return private_key, public_key"
   ]
  },
  {
   "cell_type": "code",
   "execution_count": 17,
   "metadata": {
    "collapsed": false
   },
   "outputs": [],
   "source": [
    "def verify_signature(public_key, message, signature):\n",
    "    m = hash_message(message)\n",
    "\n",
    "    r, s = signature\n",
    "\n",
    "    w = inverse_mod(s, curve.n)\n",
    "    u1 = (z * w) % curve.n\n",
    "    u2 = (r * w) % curve.n\n",
    "\n",
    "    x, y = point_add(scalar_mult(u1, curve.g),\n",
    "                     scalar_mult(u2, public_key))\n",
    "\n",
    "    if (r % curve.n) == (x % curve.n):\n",
    "        return 'signature matches'\n",
    "    else:\n",
    "        return 'invalid signature'"
   ]
  },
  {
   "cell_type": "code",
   "execution_count": 19,
   "metadata": {
    "collapsed": false
   },
   "outputs": [],
   "source": [
    "message=\"AnhQuan\"\n",
    "if (len(sys.argv)>1):\n",
    "\tmessage=str(sys.argv[1])"
   ]
  },
  {
   "cell_type": "code",
   "execution_count": 20,
   "metadata": {
    "collapsed": false
   },
   "outputs": [
    {
     "name": "stdout",
     "output_type": "stream",
     "text": [
      "Private key: 0xa58c58dc27e60918c20cb026d2edb16b5e8462b6864f6eea64660570b01995e1\n",
      "Public key: (0x6a536b68362ed3adf8d92bce81ace86a485caf4c5b93d8aec84c5d19f30c78c6, 0x18caead55c444a405d3f22dfe196a646f257831cc4b297c57a3ef62a5dcb9cdb)\n"
     ]
    }
   ],
   "source": [
    "dA, Qa = make_keypair()\n",
    "print(\"Private key:\", hex(dA))\n",
    "print((\"Public key: (0x{:x}, 0x{:x})\".format(*Qa)))"
   ]
  },
  {
   "cell_type": "code",
   "execution_count": 21,
   "metadata": {
    "collapsed": false
   },
   "outputs": [
    {
     "name": "stdout",
     "output_type": "stream",
     "text": [
      "Random value:  198190841552508904013102987000789748734\n",
      "rG:  (15188870034828594851470019924690283117300374100814987147435792823330674996999, 15094067035241856690472202899189594022004495979290067480618050230806439003261)\n",
      "\n",
      "\n",
      "======Symmetric key========\n",
      "Encryption key: 77147593802058067386001286845947471919716179267284048446532052395920572379612 77147593802058067386001286845947471919716179267284048446532052395920572379612\n"
     ]
    }
   ],
   "source": [
    "r = random.randint(0, 2**128)\n",
    "\n",
    "rG = scalar_mult(r,curve.g)\n",
    "S = scalar_mult(r,Qa)\n",
    "print(\"Random value: \" , r)\n",
    "print(\"rG: \" , rG)\n",
    "print(\"\\n\\n======Symmetric key========\")\n",
    "print(\"Encryption key:\",S[0],str(S[0]))\n",
    "password='hello'"
   ]
  },
  {
   "cell_type": "code",
   "execution_count": null,
   "metadata": {
    "collapsed": false
   },
   "outputs": [],
   "source": [
    "key = hashlib.sha256(str(S[0]).encode()).digest()\n",
    "\n",
    "message = Padding.appendPadding(message,blocksize=Padding.AES_blocksize,mode=0)\n",
    "\n",
    "ciphertext = encrypt(message.encode(),key,AES.MODE_ECB)\n",
    "print(\"Encrypted:\\t\",binascii.hexlify(ciphertext))"
   ]
  },
  {
   "cell_type": "code",
   "execution_count": null,
   "metadata": {
    "collapsed": false
   },
   "outputs": [],
   "source": [
    "Snew = scalar_mult(dA,rG)\n",
    "key = hashlib.sha256(str(Snew[0]).encode()).digest()\n",
    "\n",
    "text = decrypt(ciphertext,key,AES.MODE_ECB)\n",
    "\n",
    "print(\"Decrypted:\\t\",Padding.removePadding(text.decode(),mode=0))"
   ]
  },
  {
   "cell_type": "code",
   "execution_count": null,
   "metadata": {
    "collapsed": false
   },
   "outputs": [],
   "source": []
  }
 ],
 "metadata": {
  "interpreter": {
   "hash": "84fb2fe92b14b18c056bda70d602a3106b09df8b368d4f2bd86b226979d0ed77"
  },
  "kernelspec": {
   "display_name": "SageMath 9.4",
   "language": "python",
   "name": "python3"
  },
  "language_info": {
   "codemirror_mode": {
    "name": "ipython",
    "version": 3
   },
   "file_extension": ".py",
   "mimetype": "text/x-python",
   "name": "python",
   "nbconvert_exporter": "python",
   "pygments_lexer": "ipython3",
   "version": "3.8.10"
  }
 },
 "nbformat": 4,
 "nbformat_minor": 4
}
