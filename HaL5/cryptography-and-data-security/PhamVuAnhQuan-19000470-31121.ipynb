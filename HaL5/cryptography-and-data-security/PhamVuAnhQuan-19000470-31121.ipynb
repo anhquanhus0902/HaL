{
 "cells": [
  {
   "cell_type": "code",
   "execution_count": 4,
   "metadata": {
    "collapsed": false
   },
   "outputs": [
   ],
   "source": [
    "def encode(s):\n",
    "    s = str(s) # make input a string\n",
    "    return sum(ord(s[i])*256^i for i in range(len(s)))"
   ]
  },
  {
   "cell_type": "code",
   "execution_count": 5,
   "metadata": {
    "collapsed": false
   },
   "outputs": [
   ],
   "source": [
    "def decode(n):\n",
    "    n = Integer(n) # make input an integer\n",
    "    v = []\n",
    "    while n != 0:\n",
    "        v.append(chr(n % 256))\n",
    "        n //= 256 # this replaces n by floor(n/256).\n",
    "    return ''.join(v)"
   ]
  },
  {
   "cell_type": "code",
   "execution_count": 6,
   "metadata": {
    "collapsed": false
   },
   "outputs": [
    {
     "data": {
      "text/plain": [
       "'Neither Russian President Vladimir Putin nor Chinese leader Xi Jinping.'"
      ]
     },
     "execution_count": 6,
     "metadata": {
     },
     "output_type": "execute_result"
    }
   ],
   "source": [
    "m = \"Neither Russian President Vladimir Putin nor Chinese leader Xi Jinping.\"; m"
   ]
  },
  {
   "cell_type": "code",
   "execution_count": 10,
   "metadata": {
    "collapsed": false
   },
   "outputs": [
    {
     "data": {
      "text/plain": [
       "117"
      ]
     },
     "execution_count": 10,
     "metadata": {
     },
     "output_type": "execute_result"
    }
   ],
   "source": [
    "encoded_lst = list()\n",
    "for i in m:\n",
    "    encoded_lst.append(encode(i))\n",
    "max(encoded_lst)"
   ]
  },
  {
   "cell_type": "code",
   "execution_count": 9,
   "metadata": {
    "collapsed": false
   },
   "outputs": [
    {
     "name": "stdout",
     "output_type": "stream",
     "text": [
      "Neither Russian President Vladimir Putin nor Chinese leader Xi Jinping."
     ]
    }
   ],
   "source": [
    "for i in encoded_lst:\n",
    "    print(decode(i), end='')"
   ]
  },
  {
   "cell_type": "code",
   "execution_count": 12,
   "metadata": {
    "collapsed": false
   },
   "outputs": [
   ],
   "source": [
    "pA = 29; qA = 71; eA = 103; pB = 29; qB = 37; eB = 571;"
   ]
  },
  {
   "cell_type": "code",
   "execution_count": 13,
   "metadata": {
    "collapsed": false
   },
   "outputs": [
   ],
   "source": [
    "nA=pA*qA;nB=pB*qB"
   ]
  },
  {
   "cell_type": "code",
   "execution_count": 14,
   "metadata": {
    "collapsed": false
   },
   "outputs": [
    {
     "data": {
      "text/plain": [
       "1960"
      ]
     },
     "execution_count": 14,
     "metadata": {
     },
     "output_type": "execute_result"
    }
   ],
   "source": [
    "phiA=(pA-1)*(qA-1);phiA"
   ]
  },
  {
   "cell_type": "code",
   "execution_count": 15,
   "metadata": {
    "collapsed": false
   },
   "outputs": [
    {
     "data": {
      "text/plain": [
       "1008"
      ]
     },
     "execution_count": 15,
     "metadata": {
     },
     "output_type": "execute_result"
    }
   ],
   "source": [
    "phiB=(pB-1)*(qB-1);phiB"
   ]
  },
  {
   "cell_type": "code",
   "execution_count": 16,
   "metadata": {
    "collapsed": false
   },
   "outputs": [
    {
     "data": {
      "text/plain": [
       "647"
      ]
     },
     "execution_count": 16,
     "metadata": {
     },
     "output_type": "execute_result"
    }
   ],
   "source": [
    "dA=inverse_mod(eA,phiA);dA"
   ]
  },
  {
   "cell_type": "code",
   "execution_count": 17,
   "metadata": {
    "collapsed": false
   },
   "outputs": [
    {
     "data": {
      "text/plain": [
       "835"
      ]
     },
     "execution_count": 17,
     "metadata": {
     },
     "output_type": "execute_result"
    }
   ],
   "source": [
    "dB=inverse_mod(eB,phiB);dB"
   ]
  },
  {
   "cell_type": "code",
   "execution_count": 20,
   "metadata": {
    "collapsed": false
   },
   "outputs": [
    {
     "data": {
      "text/plain": [
       "[558,\n",
       " 878,\n",
       " 1005,\n",
       " 986,\n",
       " 41,\n",
       " 878,\n",
       " 881,\n",
       " 827,\n",
       " 103,\n",
       " 697,\n",
       " 521,\n",
       " 521,\n",
       " 1005,\n",
       " 495,\n",
       " 1035,\n",
       " 827,\n",
       " 586,\n",
       " 881,\n",
       " 878,\n",
       " 521,\n",
       " 1005,\n",
       " 729,\n",
       " 878,\n",
       " 1035,\n",
       " 986,\n",
       " 827,\n",
       " 608,\n",
       " 229,\n",
       " 495,\n",
       " 729,\n",
       " 1005,\n",
       " 644,\n",
       " 1005,\n",
       " 881,\n",
       " 827,\n",
       " 586,\n",
       " 697,\n",
       " 986,\n",
       " 1005,\n",
       " 1035,\n",
       " 827,\n",
       " 1035,\n",
       " 74,\n",
       " 881,\n",
       " 827,\n",
       " 892,\n",
       " 41,\n",
       " 1005,\n",
       " 1035,\n",
       " 878,\n",
       " 521,\n",
       " 878,\n",
       " 827,\n",
       " 229,\n",
       " 878,\n",
       " 495,\n",
       " 729,\n",
       " 878,\n",
       " 881,\n",
       " 827,\n",
       " 726,\n",
       " 1005,\n",
       " 827,\n",
       " 518,\n",
       " 1005,\n",
       " 1035,\n",
       " 778,\n",
       " 1005,\n",
       " 1035,\n",
       " 489,\n",
       " 12]"
      ]
     },
     "execution_count": 20,
     "metadata": {
     },
     "output_type": "execute_result"
    }
   ],
   "source": [
    "lst_cA = list()\n",
    "for m in encoded_lst:\n",
    "    lst_cA.append(power_mod(m, eB, nB))\n",
    "lst_cA"
   ]
  },
  {
   "cell_type": "code",
   "execution_count": 21,
   "metadata": {
    "collapsed": false
   },
   "outputs": [
    {
     "data": {
      "text/plain": [
       "[1127,\n",
       " 801,\n",
       " 467,\n",
       " 174,\n",
       " 1404,\n",
       " 801,\n",
       " 253,\n",
       " 1883,\n",
       " 803,\n",
       " 2002,\n",
       " 579,\n",
       " 579,\n",
       " 467,\n",
       " 536,\n",
       " 886,\n",
       " 1883,\n",
       " 237,\n",
       " 253,\n",
       " 801,\n",
       " 579,\n",
       " 467,\n",
       " 2052,\n",
       " 801,\n",
       " 886,\n",
       " 174,\n",
       " 1883,\n",
       " 666,\n",
       " 1663,\n",
       " 536,\n",
       " 2052,\n",
       " 467,\n",
       " 1223,\n",
       " 467,\n",
       " 253,\n",
       " 1883,\n",
       " 237,\n",
       " 2002,\n",
       " 174,\n",
       " 467,\n",
       " 886,\n",
       " 1883,\n",
       " 886,\n",
       " 1992,\n",
       " 253,\n",
       " 1883,\n",
       " 816,\n",
       " 1404,\n",
       " 467,\n",
       " 886,\n",
       " 801,\n",
       " 579,\n",
       " 801,\n",
       " 1883,\n",
       " 1663,\n",
       " 801,\n",
       " 536,\n",
       " 2052,\n",
       " 801,\n",
       " 253,\n",
       " 1883,\n",
       " 1770,\n",
       " 467,\n",
       " 1883,\n",
       " 819,\n",
       " 467,\n",
       " 886,\n",
       " 690,\n",
       " 467,\n",
       " 886,\n",
       " 1457,\n",
       " 795]"
      ]
     },
     "execution_count": 21,
     "metadata": {
     },
     "output_type": "execute_result"
    }
   ],
   "source": [
    "lst_sA = list()\n",
    "for m in encoded_lst:\n",
    "    lst_sA.append(power_mod(m, dA, nA))\n",
    "lst_sA"
   ]
  },
  {
   "cell_type": "code",
   "execution_count": 23,
   "metadata": {
    "collapsed": false
   },
   "outputs": [
    {
     "data": {
      "text/plain": [
       "[78,\n",
       " 101,\n",
       " 105,\n",
       " 116,\n",
       " 104,\n",
       " 101,\n",
       " 114,\n",
       " 32,\n",
       " 82,\n",
       " 117,\n",
       " 115,\n",
       " 115,\n",
       " 105,\n",
       " 97,\n",
       " 110,\n",
       " 32,\n",
       " 80,\n",
       " 114,\n",
       " 101,\n",
       " 115,\n",
       " 105,\n",
       " 100,\n",
       " 101,\n",
       " 110,\n",
       " 116,\n",
       " 32,\n",
       " 86,\n",
       " 108,\n",
       " 97,\n",
       " 100,\n",
       " 105,\n",
       " 109,\n",
       " 105,\n",
       " 114,\n",
       " 32,\n",
       " 80,\n",
       " 117,\n",
       " 116,\n",
       " 105,\n",
       " 110,\n",
       " 32,\n",
       " 110,\n",
       " 111,\n",
       " 114,\n",
       " 32,\n",
       " 67,\n",
       " 104,\n",
       " 105,\n",
       " 110,\n",
       " 101,\n",
       " 115,\n",
       " 101,\n",
       " 32,\n",
       " 108,\n",
       " 101,\n",
       " 97,\n",
       " 100,\n",
       " 101,\n",
       " 114,\n",
       " 32,\n",
       " 88,\n",
       " 105,\n",
       " 32,\n",
       " 74,\n",
       " 105,\n",
       " 110,\n",
       " 112,\n",
       " 105,\n",
       " 110,\n",
       " 103,\n",
       " 46]"
      ]
     },
     "execution_count": 23,
     "metadata": {
     },
     "output_type": "execute_result"
    }
   ],
   "source": [
    "lst_m1 = list()\n",
    "for cA in lst_cA:\n",
    "    lst_m1.append(power_mod(cA, dB, nB))\n",
    "lst_m1"
   ]
  },
  {
   "cell_type": "code",
   "execution_count": 25,
   "metadata": {
    "collapsed": false
   },
   "outputs": [
    {
     "data": {
      "text/plain": [
       "[78,\n",
       " 101,\n",
       " 105,\n",
       " 116,\n",
       " 104,\n",
       " 101,\n",
       " 114,\n",
       " 32,\n",
       " 82,\n",
       " 117,\n",
       " 115,\n",
       " 115,\n",
       " 105,\n",
       " 97,\n",
       " 110,\n",
       " 32,\n",
       " 80,\n",
       " 114,\n",
       " 101,\n",
       " 115,\n",
       " 105,\n",
       " 100,\n",
       " 101,\n",
       " 110,\n",
       " 116,\n",
       " 32,\n",
       " 86,\n",
       " 108,\n",
       " 97,\n",
       " 100,\n",
       " 105,\n",
       " 109,\n",
       " 105,\n",
       " 114,\n",
       " 32,\n",
       " 80,\n",
       " 117,\n",
       " 116,\n",
       " 105,\n",
       " 110,\n",
       " 32,\n",
       " 110,\n",
       " 111,\n",
       " 114,\n",
       " 32,\n",
       " 67,\n",
       " 104,\n",
       " 105,\n",
       " 110,\n",
       " 101,\n",
       " 115,\n",
       " 101,\n",
       " 32,\n",
       " 108,\n",
       " 101,\n",
       " 97,\n",
       " 100,\n",
       " 101,\n",
       " 114,\n",
       " 32,\n",
       " 88,\n",
       " 105,\n",
       " 32,\n",
       " 74,\n",
       " 105,\n",
       " 110,\n",
       " 112,\n",
       " 105,\n",
       " 110,\n",
       " 103,\n",
       " 46]"
      ]
     },
     "execution_count": 25,
     "metadata": {
     },
     "output_type": "execute_result"
    }
   ],
   "source": [
    "lst_m2 = list()\n",
    "for sA in lst_sA:\n",
    "    lst_m2.append(power_mod(sA, eA, nA))\n",
    "lst_m2"
   ]
  },
  {
   "cell_type": "code",
   "execution_count": 27,
   "metadata": {
    "collapsed": false
   },
   "outputs": [
    {
     "name": "stdout",
     "output_type": "stream",
     "text": [
      "Valid\n"
     ]
    }
   ],
   "source": [
    "if lst_m1 == lst_m2:\n",
    "    print(\"Valid\")\n",
    "else:\n",
    "    print(\"Oops\")"
   ]
  }
 ],
 "metadata": {
  "kernelspec": {
   "display_name": "SageMath 9.4",
   "language": "sagemath",
   "metadata": {
    "cocalc": {
     "description": "Open-source mathematical software system",
     "priority": 10,
     "url": "https://www.sagemath.org/"
    }
   },
   "name": "sage-9.4",
   "resource_dir": "/ext/jupyter/kernels/sage-9.4"
  },
  "language_info": {
   "codemirror_mode": {
    "name": "ipython",
    "version": 3
   },
   "file_extension": ".py",
   "mimetype": "text/x-python",
   "name": "python",
   "nbconvert_exporter": "python",
   "pygments_lexer": "ipython3",
   "version": "3.9.5"
  }
 },
 "nbformat": 4,
 "nbformat_minor": 4
}