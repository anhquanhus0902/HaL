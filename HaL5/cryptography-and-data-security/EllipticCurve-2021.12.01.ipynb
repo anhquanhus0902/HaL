{
 "cells": [
  {
   "cell_type": "markdown",
   "metadata": {},
   "source": [
    "Đường cong elliptic $y^2=x^3+ax+b$ trên trường số hữu tỉ."
   ]
  },
  {
   "cell_type": "code",
   "execution_count": 15,
   "metadata": {},
   "outputs": [
    {
     "data": {
      "text/plain": [
       "Elliptic Curve defined by y^2 = x^3 + 2*x + 3 over Rational Field"
      ]
     },
     "execution_count": 15,
     "metadata": {},
     "output_type": "execute_result"
    }
   ],
   "source": [
    "E = EllipticCurve([2,3])\n",
    "E"
   ]
  },
  {
   "cell_type": "code",
   "execution_count": 16,
   "metadata": {},
   "outputs": [
    {
     "data": {
      "image/png": "[encoded data removed]",
      "text/plain": [
       "Graphics object consisting of 1 graphics primitive"
      ]
     },
     "execution_count": 16,
     "metadata": {},
     "output_type": "execute_result"
    }
   ],
   "source": [
    "E.plot()"
   ]
  },
  {
   "cell_type": "markdown",
   "metadata": {},
   "source": [
    "Đường cong elliptic trên trường hữu hạn:"
   ]
  },
  {
   "cell_type": "code",
   "execution_count": 17,
   "metadata": {},
   "outputs": [
    {
     "data": {
      "text/plain": [
       "Elliptic Curve defined by y^2 = x^3 + x over Finite Field of size 13"
      ]
     },
     "execution_count": 17,
     "metadata": {},
     "output_type": "execute_result"
    }
   ],
   "source": [
    "F = EllipticCurve(GF(13), [1, 0])\n",
    "F"
   ]
  },
  {
   "cell_type": "code",
   "execution_count": 18,
   "metadata": {},
   "outputs": [
    {
     "data": {
      "text/plain": [
       "20"
      ]
     },
     "execution_count": 18,
     "metadata": {},
     "output_type": "execute_result"
    }
   ],
   "source": [
    "F.order()"
   ]
  },
  {
   "cell_type": "code",
   "execution_count": 20,
   "metadata": {},
   "outputs": [
    {
     "data": {
      "image/png": "[encoded data removed]",
      "text/plain": [
       "Graphics object consisting of 1 graphics primitive"
      ]
     },
     "execution_count": 20,
     "metadata": {},
     "output_type": "execute_result"
    }
   ],
   "source": [
    "F.plot(pointsize=45)"
   ]
  },
  {
   "cell_type": "code",
   "execution_count": 30,
   "metadata": {},
   "outputs": [
    {
     "data": {
      "text/plain": [
       "[(0 : 0 : 1), (0 : 1 : 0), (2 : 6 : 1), (2 : 7 : 1), (3 : 2 : 1), (3 : 11 : 1), (4 : 4 : 1), (4 : 9 : 1), (5 : 0 : 1), (6 : 1 : 1), (6 : 12 : 1), (7 : 5 : 1), (7 : 8 : 1), (8 : 0 : 1), (9 : 6 : 1), (9 : 7 : 1), (10 : 3 : 1), (10 : 10 : 1), (11 : 4 : 1), (11 : 9 : 1)]"
      ]
     },
     "execution_count": 30,
     "metadata": {},
     "output_type": "execute_result"
    }
   ],
   "source": [
    "G=F.points();G"
   ]
  },
  {
   "cell_type": "code",
   "execution_count": 40,
   "metadata": {},
   "outputs": [
    {
     "data": {
      "text/plain": [
       "(2 : 6 : 1)"
      ]
     },
     "execution_count": 40,
     "metadata": {},
     "output_type": "execute_result"
    }
   ],
   "source": [
    "A=F.point([2,6]);A"
   ]
  },
  {
   "cell_type": "code",
   "execution_count": 41,
   "metadata": {},
   "outputs": [
    {
     "data": {
      "text/plain": [
       "(10 : 3 : 1)"
      ]
     },
     "execution_count": 41,
     "metadata": {},
     "output_type": "execute_result"
    }
   ],
   "source": [
    "B=F.point([10,3]);B"
   ]
  },
  {
   "cell_type": "code",
   "execution_count": 38,
   "metadata": {},
   "outputs": [
    {
     "data": {
      "text/plain": [
       "(5 : 0 : 1)"
      ]
     },
     "execution_count": 38,
     "metadata": {},
     "output_type": "execute_result"
    }
   ],
   "source": [
    "A+B"
   ]
  },
  {
   "cell_type": "code",
   "execution_count": 39,
   "metadata": {},
   "outputs": [
    {
     "data": {
      "text/plain": [
       "(9 : 7 : 1)"
      ]
     },
     "execution_count": 39,
     "metadata": {},
     "output_type": "execute_result"
    }
   ],
   "source": [
    "2*A"
   ]
  },
  {
   "cell_type": "code",
   "execution_count": 26,
   "metadata": {},
   "outputs": [
    {
     "data": {
      "text/plain": [
       "(3 : 2 : 1)"
      ]
     },
     "execution_count": 26,
     "metadata": {},
     "output_type": "execute_result"
    }
   ],
   "source": [
    "P = F.random_point();P"
   ]
  },
  {
   "cell_type": "code",
   "execution_count": 27,
   "metadata": {},
   "outputs": [
    {
     "data": {
      "text/plain": [
       "<class 'sage.schemes.elliptic_curves.ell_point.EllipticCurvePoint_finite_field'>"
      ]
     },
     "execution_count": 27,
     "metadata": {},
     "output_type": "execute_result"
    }
   ],
   "source": [
    "type(P)"
   ]
  },
  {
   "cell_type": "code",
   "execution_count": 28,
   "metadata": {},
   "outputs": [
    {
     "data": {
      "text/plain": [
       "10"
      ]
     },
     "execution_count": 28,
     "metadata": {},
     "output_type": "execute_result"
    }
   ],
   "source": [
    "P.order()"
   ]
  },
  {
   "cell_type": "markdown",
   "metadata": {},
   "source": [
    "Đường cong elliptic trên trường GF(p^2)"
   ]
  },
  {
   "cell_type": "code",
   "execution_count": 80,
   "metadata": {},
   "outputs": [
    {
     "data": {
      "text/plain": [
       "Elliptic Curve defined by y^2 = x^3 + x over Finite Field in z2 of size 13^2"
      ]
     },
     "execution_count": 80,
     "metadata": {},
     "output_type": "execute_result"
    }
   ],
   "source": [
    "E = EllipticCurve(GF(13^2), [1, 0]);E"
   ]
  },
  {
   "cell_type": "code",
   "execution_count": 44,
   "metadata": {},
   "outputs": [
    {
     "data": {
      "text/plain": [
       "160"
      ]
     },
     "execution_count": 44,
     "metadata": {},
     "output_type": "execute_result"
    }
   ],
   "source": [
    "E.order()"
   ]
  },
  {
   "cell_type": "code",
   "execution_count": 81,
   "metadata": {},
   "outputs": [
    {
     "data": {
      "text/plain": [
       "[(0 : 0 : 1), (0 : 1 : 0), (1 : 6*z2 + 10 : 1), (1 : 7*z2 + 3 : 1), (2 : 6 : 1), (2 : 7 : 1), (3 : 2 : 1), (3 : 11 : 1), (4 : 4 : 1), (4 : 9 : 1), (5 : 0 : 1), (6 : 1 : 1), (6 : 12 : 1), (7 : 5 : 1), (7 : 8 : 1), (8 : 0 : 1), (9 : 6 : 1), (9 : 7 : 1), (10 : 3 : 1), (10 : 10 : 1), (11 : 4 : 1), (11 : 9 : 1), (12 : 4*z2 + 11 : 1), (12 : 9*z2 + 2 : 1), (z2 : 4*z2 + 11 : 1), (z2 : 9*z2 + 2 : 1), (z2 + 3 : 4*z2 + 9 : 1), (z2 + 3 : 9*z2 + 4 : 1), (z2 + 9 : 6*z2 : 1), (z2 + 9 : 7*z2 : 1), (z2 + 12 : 6*z2 + 10 : 1), (z2 + 12 : 7*z2 + 3 : 1), (2*z2 + 2 : 5*z2 + 3 : 1), (2*z2 + 2 : 8*z2 + 10 : 1), (2*z2 + 4 : 4*z2 + 12 : 1), (2*z2 + 4 : 9*z2 + 1 : 1), (2*z2 + 5 : 6*z2 + 1 : 1), (2*z2 + 5 : 7*z2 + 12 : 1), (2*z2 + 6 : 4*z2 + 4 : 1), (2*z2 + 6 : 9*z2 + 9 : 1), (2*z2 + 7 : 6*z2 + 2 : 1), (2*z2 + 7 : 7*z2 + 11 : 1), (2*z2 + 9 : z2 + 1 : 1), (2*z2 + 9 : 12*z2 + 12 : 1), (3*z2 + 2 : 3*z2 + 3 : 1), (3*z2 + 2 : 10*z2 + 10 : 1), (3*z2 + 8 : 2*z2 + 9 : 1), (3*z2 + 8 : 11*z2 + 4 : 1), (4*z2 : z2 + 2 : 1), (4*z2 : 12*z2 + 11 : 1), (4*z2 + 1 : 5 : 1), (4*z2 + 1 : 8 : 1), (4*z2 + 2 : 2*z2 + 7 : 1), (4*z2 + 2 : 11*z2 + 6 : 1), (4*z2 + 3 : 2*z2 + 8 : 1), (4*z2 + 3 : 11*z2 + 5 : 1), (4*z2 + 6 : 3*z2 + 11 : 1), (4*z2 + 6 : 10*z2 + 2 : 1), (4*z2 + 7 : 3*z2 + 6 : 1), (4*z2 + 7 : 10*z2 + 7 : 1), (4*z2 + 8 : 1 : 1), (4*z2 + 8 : 12 : 1), (4*z2 + 9 : 5*z2 + 11 : 1), (4*z2 + 9 : 8*z2 + 2 : 1), (5*z2 : 4*z2 + 9 : 1), (5*z2 : 9*z2 + 4 : 1), (5*z2 + 3 : 5*z2 + 2 : 1), (5*z2 + 3 : 8*z2 + 11 : 1), (5*z2 + 5 : z2 + 9 : 1), (5*z2 + 5 : 12*z2 + 4 : 1), (5*z2 + 8 : 6*z2 : 1), (5*z2 + 8 : 7*z2 : 1), (5*z2 + 9 : 3*z2 + 1 : 1), (5*z2 + 9 : 10*z2 + 12 : 1), (5*z2 + 12 : 2*z2 + 6 : 1), (5*z2 + 12 : 11*z2 + 7 : 1), (6*z2 : z2 + 5 : 1), (6*z2 : 12*z2 + 8 : 1), (6*z2 + 1 : 4*z2 + 7 : 1), (6*z2 + 1 : 9*z2 + 6 : 1), (6*z2 + 2 : 2 : 1), (6*z2 + 2 : 11 : 1), (6*z2 + 3 : 6*z2 + 7 : 1), (6*z2 + 3 : 7*z2 + 6 : 1), (6*z2 + 4 : 4*z2 : 1), (6*z2 + 4 : 9*z2 : 1), (6*z2 + 5 : 3 : 1), (6*z2 + 5 : 10 : 1), (6*z2 + 6 : 6*z2 + 3 : 1), (6*z2 + 6 : 7*z2 + 10 : 1), (6*z2 + 7 : 5*z2 + 9 : 1), (6*z2 + 7 : 8*z2 + 4 : 1), (7*z2 : 5*z2 + 12 : 1), (7*z2 : 8*z2 + 1 : 1), (7*z2 + 6 : z2 + 7 : 1), (7*z2 + 6 : 12*z2 + 6 : 1), (7*z2 + 7 : 4*z2 + 2 : 1), (7*z2 + 7 : 9*z2 + 11 : 1), (7*z2 + 8 : 2 : 1), (7*z2 + 8 : 11 : 1), (7*z2 + 9 : 6*z2 : 1), (7*z2 + 9 : 7*z2 : 1), (7*z2 + 10 : 4*z2 + 9 : 1), (7*z2 + 10 : 9*z2 + 4 : 1), (7*z2 + 11 : 3 : 1), (7*z2 + 11 : 10 : 1), (7*z2 + 12 : 6*z2 + 4 : 1), (7*z2 + 12 : 7*z2 + 9 : 1), (8*z2 : 6*z2 + 7 : 1), (8*z2 : 7*z2 + 6 : 1), (8*z2 + 1 : 3*z2 + 9 : 1), (8*z2 + 1 : 10*z2 + 4 : 1), (8*z2 + 4 : 2*z2 + 5 : 1), (8*z2 + 4 : 11*z2 + 8 : 1), (8*z2 + 5 : 4*z2 : 1), (8*z2 + 5 : 9*z2 : 1), (8*z2 + 8 : 5*z2 + 6 : 1), (8*z2 + 8 : 8*z2 + 7 : 1), (8*z2 + 10 : z2 + 3 : 1), (8*z2 + 10 : 12*z2 + 10 : 1), (9*z2 : 5*z2 + 10 : 1), (9*z2 : 8*z2 + 3 : 1), (9*z2 + 4 : z2 + 10 : 1), (9*z2 + 4 : 12*z2 + 3 : 1), (9*z2 + 5 : 5 : 1), (9*z2 + 5 : 8 : 1), (9*z2 + 6 : 2*z2 + 4 : 1), (9*z2 + 6 : 11*z2 + 9 : 1), (9*z2 + 7 : 2*z2 + 3 : 1), (9*z2 + 7 : 11*z2 + 10 : 1), (9*z2 + 10 : 3*z2 + 12 : 1), (9*z2 + 10 : 10*z2 + 1 : 1), (9*z2 + 11 : 3*z2 + 4 : 1), (9*z2 + 11 : 10*z2 + 9 : 1), (9*z2 + 12 : 1 : 1), (9*z2 + 12 : 12 : 1), (10*z2 + 5 : 3*z2 + 7 : 1), (10*z2 + 5 : 10*z2 + 6 : 1), (10*z2 + 11 : 2*z2 + 2 : 1), (10*z2 + 11 : 11*z2 + 11 : 1), (11*z2 + 4 : 5*z2 + 5 : 1), (11*z2 + 4 : 8*z2 + 8 : 1), (11*z2 + 6 : 4*z2 + 10 : 1), (11*z2 + 6 : 9*z2 + 3 : 1), (11*z2 + 7 : 6*z2 + 6 : 1), (11*z2 + 7 : 7*z2 + 7 : 1), (11*z2 + 8 : 4*z2 + 5 : 1), (11*z2 + 8 : 9*z2 + 8 : 1), (11*z2 + 9 : 6*z2 + 5 : 1), (11*z2 + 9 : 7*z2 + 8 : 1), (11*z2 + 11 : z2 + 11 : 1), (11*z2 + 11 : 12*z2 + 2 : 1), (12*z2 : 6*z2 + 10 : 1), (12*z2 : 7*z2 + 3 : 1), (12*z2 + 1 : 4*z2 + 11 : 1), (12*z2 + 1 : 9*z2 + 2 : 1), (12*z2 + 4 : 4*z2 : 1), (12*z2 + 4 : 9*z2 : 1), (12*z2 + 10 : 6*z2 + 7 : 1), (12*z2 + 10 : 7*z2 + 6 : 1)]"
      ]
     },
     "execution_count": 81,
     "metadata": {},
     "output_type": "execute_result"
    }
   ],
   "source": [
    "E.points()"
   ]
  },
  {
   "cell_type": "code",
   "execution_count": 82,
   "metadata": {},
   "outputs": [
    {
     "data": {
      "text/plain": [
       "(11*z2 + 8 : 4*z2 + 5 : 1)"
      ]
     },
     "execution_count": 82,
     "metadata": {},
     "output_type": "execute_result"
    }
   ],
   "source": [
    "P=E.random_point();P"
   ]
  },
  {
   "cell_type": "markdown",
   "metadata": {},
   "source": [
    "Alice có số bí mật 217, Bob số bí mật là 459.\n",
    "Alice tính a=P^217 = P+...+P (217 lần), Bob tính a^459\n",
    "Bob tính b=P^459 = P+...+P (459 lần), Alice tính b^217"
   ]
  },
  {
   "cell_type": "code",
   "execution_count": 49,
   "metadata": {},
   "outputs": [
    {
     "data": {
      "text/plain": [
       "(7*z2 + 6 : z2 + 7 : 1)"
      ]
     },
     "execution_count": 49,
     "metadata": {},
     "output_type": "execute_result"
    }
   ],
   "source": [
    "a=217*P;a"
   ]
  },
  {
   "cell_type": "code",
   "execution_count": 50,
   "metadata": {},
   "outputs": [
    {
     "data": {
      "text/plain": [
       "(12*z2 : 6*z2 + 10 : 1)"
      ]
     },
     "execution_count": 50,
     "metadata": {},
     "output_type": "execute_result"
    }
   ],
   "source": [
    "Kb=459*a;Kb"
   ]
  },
  {
   "cell_type": "code",
   "execution_count": 53,
   "metadata": {},
   "outputs": [
    {
     "data": {
      "text/plain": [
       "(5*z2 + 9 : 3*z2 + 1 : 1)"
      ]
     },
     "execution_count": 53,
     "metadata": {},
     "output_type": "execute_result"
    }
   ],
   "source": [
    "b=459*P;b"
   ]
  },
  {
   "cell_type": "code",
   "execution_count": 54,
   "metadata": {},
   "outputs": [
    {
     "data": {
      "text/plain": [
       "(12*z2 : 6*z2 + 10 : 1)"
      ]
     },
     "execution_count": 54,
     "metadata": {},
     "output_type": "execute_result"
    }
   ],
   "source": [
    "Ka=217*b;Ka"
   ]
  },
  {
   "cell_type": "code",
   "execution_count": 55,
   "metadata": {},
   "outputs": [
    {
     "data": {
      "text/plain": [
       "True"
      ]
     },
     "execution_count": 55,
     "metadata": {},
     "output_type": "execute_result"
    }
   ],
   "source": [
    "Ka==Kb"
   ]
  },
  {
   "cell_type": "markdown",
   "metadata": {},
   "source": [
    "Như vậy Alice và Bob có khóa chung Ka=Kb=(12*z2 , 6*z2 + 10) để mã hóa."
   ]
  },
  {
   "cell_type": "code",
   "execution_count": 59,
   "metadata": {},
   "outputs": [
    {
     "data": {
      "text/plain": [
       "Elliptic Curve defined by y^2 = x^3 + x over Finite Field in z10 of size 13^10"
      ]
     },
     "execution_count": 59,
     "metadata": {},
     "output_type": "execute_result"
    }
   ],
   "source": [
    "F = EllipticCurve(GF(13^10), [1, 0])\n",
    "F"
   ]
  },
  {
   "cell_type": "code",
   "execution_count": 60,
   "metadata": {},
   "outputs": [
    {
     "data": {
      "text/plain": [
       "137857808800"
      ]
     },
     "execution_count": 60,
     "metadata": {},
     "output_type": "execute_result"
    }
   ],
   "source": [
    "F.order()"
   ]
  },
  {
   "cell_type": "code",
   "execution_count": 61,
   "metadata": {},
   "outputs": [
    {
     "data": {
      "text/plain": [
       "(6*z10^8 + z10^7 + 2*z10^6 + 4*z10^5 + 12*z10^4 + 7*z10^3 + 8*z10^2 + 11*z10 + 6 : 5*z10^9 + 8*z10^8 + 11*z10^6 + 11*z10^5 + 10*z10^4 + 8*z10^3 + 2*z10^2 + 12*z10 + 2 : 1)"
      ]
     },
     "execution_count": 61,
     "metadata": {},
     "output_type": "execute_result"
    }
   ],
   "source": [
    "P=F.random_point();P"
   ]
  },
  {
   "cell_type": "code",
   "execution_count": 62,
   "metadata": {},
   "outputs": [
    {
     "data": {
      "text/plain": [
       "34464452200"
      ]
     },
     "execution_count": 62,
     "metadata": {},
     "output_type": "execute_result"
    }
   ],
   "source": [
    "P.order()"
   ]
  },
  {
   "cell_type": "markdown",
   "metadata": {},
   "source": [
    "Số bí mật của Alice & Bob tương ứng là: a=3123213, b=5656569."
   ]
  },
  {
   "cell_type": "code",
   "execution_count": 63,
   "metadata": {},
   "outputs": [
    {
     "data": {
      "text/plain": [
       "(3123213, 5656569)"
      ]
     },
     "execution_count": 63,
     "metadata": {},
     "output_type": "execute_result"
    }
   ],
   "source": [
    "a=3123213;b=5656569;a,b"
   ]
  },
  {
   "cell_type": "code",
   "execution_count": 64,
   "metadata": {},
   "outputs": [
    {
     "data": {
      "text/plain": [
       "((9*z10^9 + 5*z10^7 + 6*z10^6 + 11*z10^5 + 11*z10^4 + 4*z10^3 + 9*z10^2 + 4*z10 + 2 : 11*z10^9 + 11*z10^8 + 3*z10^7 + 11*z10^6 + 3*z10^5 + 2*z10^4 + 7*z10^3 + 2*z10^2 + 8*z10 + 8 : 1),\n",
       " (z10^9 + 3*z10^8 + 4*z10^7 + z10^6 + z10^5 + z10^4 + 8*z10^3 + 4*z10^2 + 10*z10 + 2 : 9*z10^9 + 3*z10^8 + 8*z10^7 + 4*z10^6 + 10*z10^4 + 5*z10^3 + 4*z10^2 + 10*z10 + 3 : 1))"
      ]
     },
     "execution_count": 64,
     "metadata": {},
     "output_type": "execute_result"
    }
   ],
   "source": [
    "A=a*P;Kb=b*A;A,Kb"
   ]
  },
  {
   "cell_type": "code",
   "execution_count": 65,
   "metadata": {},
   "outputs": [
    {
     "data": {
      "text/plain": [
       "((9*z10^9 + 4*z10^8 + 12*z10^7 + 2*z10^6 + 12*z10^4 + 12*z10^3 + 9*z10^2 + 7*z10 + 7 : 9*z10^9 + 7*z10^8 + 5*z10^6 + 6*z10^5 + z10^4 + 11*z10^3 + 12*z10^2 + z10 : 1),\n",
       " (z10^9 + 3*z10^8 + 4*z10^7 + z10^6 + z10^5 + z10^4 + 8*z10^3 + 4*z10^2 + 10*z10 + 2 : 9*z10^9 + 3*z10^8 + 8*z10^7 + 4*z10^6 + 10*z10^4 + 5*z10^3 + 4*z10^2 + 10*z10 + 3 : 1))"
      ]
     },
     "execution_count": 65,
     "metadata": {},
     "output_type": "execute_result"
    }
   ],
   "source": [
    "B=b*P;Ka=a*B;B,Ka"
   ]
  },
  {
   "cell_type": "code",
   "execution_count": 66,
   "metadata": {},
   "outputs": [
    {
     "data": {
      "text/plain": [
       "True"
      ]
     },
     "execution_count": 66,
     "metadata": {},
     "output_type": "execute_result"
    }
   ],
   "source": [
    "Ka==Kb"
   ]
  },
  {
   "cell_type": "code",
   "execution_count": 67,
   "metadata": {},
   "outputs": [
    {
     "data": {
      "text/plain": [
       "(z10^9 + 3*z10^8 + 4*z10^7 + z10^6 + z10^5 + z10^4 + 8*z10^3 + 4*z10^2 + 10*z10 + 2 : 9*z10^9 + 3*z10^8 + 8*z10^7 + 4*z10^6 + 10*z10^4 + 5*z10^3 + 4*z10^2 + 10*z10 + 3 : 1)"
      ]
     },
     "execution_count": 67,
     "metadata": {},
     "output_type": "execute_result"
    }
   ],
   "source": [
    "Ka"
   ]
  }
 ],
 "metadata": {
  "kernelspec": {
   "display_name": "SageMath 9.0",
   "language": "sage",
   "name": "sagemath"
  },
  "language_info": {
   "codemirror_mode": {
    "name": "ipython",
    "version": 3
   },
   "file_extension": ".py",
   "mimetype": "text/x-python",
   "name": "python",
   "nbconvert_exporter": "python",
   "pygments_lexer": "ipython3",
   "version": "3.7.3"
  }
 },
 "nbformat": 4,
 "nbformat_minor": 2
}
