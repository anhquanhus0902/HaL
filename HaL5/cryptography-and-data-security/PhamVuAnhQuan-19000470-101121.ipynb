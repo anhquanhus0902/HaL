{
 "cells": [
  {
   "cell_type": "markdown",
   "metadata": {
    "collapsed": false
   },
   "source": [
    "DSA (Stallings, Appendix B11)\n",
    "\n",
    "Thủ tục sinh các tham số q (số nguyên tố 16 bit), p (số nguyên tố 64 bit)"
   ]
  },
  {
   "cell_type": "code",
   "execution_count": 1,
   "metadata": {
    "collapsed": false
   },
   "outputs": [
   ],
   "source": [
    "def DSA_generate_domain_parameters():\n",
    "    g=1;\n",
    "    while (1==g):\n",
    "        q=1\n",
    "        while (q<2^15):\n",
    "            q=random_prime(2^16)\n",
    "            p=1;\n",
    "            while (not is_prime(p)):\n",
    "                p=(2^48+randint(1,2^46)*2)*q+1\n",
    "            h=randint(2,p-2)\n",
    "            g=power_mod(h,int((p-1)/q),p)\n",
    "    return(p,q,g)"
   ]
  },
  {
   "cell_type": "code",
   "execution_count": 5,
   "metadata": {
    "collapsed": false
   },
   "outputs": [
    {
     "data": {
      "text/plain": [
       "(25267540865156393261, 60037, 6339445435365755009)"
      ]
     },
     "execution_count": 5,
     "metadata": {
     },
     "output_type": "execute_result"
    }
   ],
   "source": [
    "para=DSA_generate_domain_parameters();para"
   ]
  },
  {
   "cell_type": "markdown",
   "metadata": {
    "collapsed": false
   },
   "source": [
    "Đã xong bước sinh các tham số: (p,q,g)\n",
    "\n",
    "Thuật toán sinh khóa: (x,y)\n",
    "Sinh khóa bí mật x và khóa công khai y"
   ]
  },
  {
   "cell_type": "code",
   "execution_count": 2,
   "metadata": {
    "collapsed": false
   },
   "outputs": [
   ],
   "source": [
    "def DSA_generate_keypair(p,q,g):\n",
    "    x=randint(2,q-1)\n",
    "    y=power_mod(g,x,p)\n",
    "    return(x,y)"
   ]
  },
  {
   "cell_type": "code",
   "execution_count": 6,
   "metadata": {
    "collapsed": false
   },
   "outputs": [
    {
     "data": {
      "text/plain": [
       "(28358, 2399137351788613652)"
      ]
     },
     "execution_count": 6,
     "metadata": {
     },
     "output_type": "execute_result"
    }
   ],
   "source": [
    "keypair=DSA_generate_keypair(para[0],para[1],para[2]);keypair"
   ]
  },
  {
   "cell_type": "markdown",
   "metadata": {
    "collapsed": false
   },
   "source": [
    "Có cặp khóa (x,y)\n",
    "\n",
    "Thuật toán kí"
   ]
  },
  {
   "cell_type": "code",
   "execution_count": 3,
   "metadata": {
    "collapsed": false
   },
   "outputs": [
   ],
   "source": [
    "def DSA_sign(p,q,g,x,H):\n",
    "    k=randint(2,q-1)\n",
    "    r=power_mod(g,k,p)%q\n",
    "    kinv=inverse_mod(k,q)\n",
    "    s=(kinv*(H+x*r))%q\n",
    "    return (r,s)"
   ]
  },
  {
   "cell_type": "markdown",
   "metadata": {
    "collapsed": false
   },
   "source": [
    "Ví dụ một giá trị băm của văn bản:\n",
    "\n",
    "(Bài kiểm tra: Bước 1 / M=\"Họ và tên mã sinh vien ngay thang nam sinh\").\n",
    "\n",
    "Ví dụ: Nguyễn Văn Bình với mã sinh viên 12567891 15/03/2001 thì\n",
    "M = \"Nguyen Van Binh 12567891  15032001\", lấy một loại hàm băm trong thư viện đã có)"
   ]
  },
  {
   "cell_type": "code",
   "execution_count": 11,
   "metadata": {
    "collapsed": false
   },
   "outputs": [
    {
     "name": "stdout",
     "output_type": "stream",
     "text": [
      "0f547843ec413efee612abc53d370927eea7c6366b43e3c8d5e212ccaf123330\n",
      "6933937922948963189052140225647285979102992556661565212132163168846902080304\n"
     ]
    }
   ],
   "source": [
    "import hashlib\n",
    "h = hashlib.sha256(b\"Pham Vu Anh Quan 19000470 09022001\").hexdigest()\n",
    "print(h)\n",
    "H = int(h, 16)\n",
    "print(H)"
   ]
  },
  {
   "cell_type": "code",
   "execution_count": 16,
   "metadata": {
    "collapsed": false
   },
   "outputs": [
    {
     "data": {
      "text/plain": [
       "(22863, 32734)"
      ]
     },
     "execution_count": 16,
     "metadata": {
     },
     "output_type": "execute_result"
    }
   ],
   "source": [
    "sign = DSA_sign(para[0],para[1],para[2],keypair[0],H); sign"
   ]
  },
  {
   "cell_type": "markdown",
   "metadata": {
    "collapsed": false
   },
   "source": [
    "Chữ ký số: (r,s)\n",
    "\n",
    "\n",
    "Bài kiểm tra: Bước 2, viết lại phần dưới đây bằng một thủ tục \"DSA_signcheck\"\n",
    "\n",
    "Input: p,q,g,y,r,s,H\n",
    "Output:   (True/False)\n",
    "\n",
    "\n",
    "\n",
    "Bước xác thực:\n",
    "\n",
    " w=s^(-1) mod q"
   ]
  },
  {
   "cell_type": "code",
   "execution_count": 13,
   "metadata": {
    "collapsed": false
   },
   "outputs": [
   ],
   "source": [
    "def DSA_signcheck(p, q, g, y, r, s, H):\n",
    "    w = inverse_mod(s, q)\n",
    "    u1 = (H*w) % q\n",
    "    u2 = (r*w) % q\n",
    "    v=((power_mod(g,u1,p)*power_mod(y,u2,p))%p)%q\n",
    "    return v == r"
   ]
  },
  {
   "cell_type": "code",
   "execution_count": 17,
   "metadata": {
    "collapsed": false
   },
   "outputs": [
    {
     "data": {
      "text/plain": [
       "True"
      ]
     },
     "execution_count": 17,
     "metadata": {
     },
     "output_type": "execute_result"
    }
   ],
   "source": [
    "DSA_signcheck(para[0], para[1], para[2], keypair[1], sign[0], sign[1], H)"
   ]
  },
  {
   "cell_type": "code",
   "execution_count": 149,
   "metadata": {
    "collapsed": false
   },
   "outputs": [
    {
     "data": {
      "text/plain": [
       "6118"
      ]
     },
     "execution_count": 149,
     "metadata": {
     },
     "output_type": "execute_result"
    }
   ],
   "source": [
    "w=inverse_mod(s,q);w"
   ]
  },
  {
   "cell_type": "code",
   "execution_count": 150,
   "metadata": {
    "collapsed": false
   },
   "outputs": [
    {
     "data": {
      "text/plain": [
       "11729"
      ]
     },
     "execution_count": 150,
     "metadata": {
     },
     "output_type": "execute_result"
    }
   ],
   "source": [
    "u1=(H*w)%q;u1"
   ]
  },
  {
   "cell_type": "code",
   "execution_count": 151,
   "metadata": {
    "collapsed": false
   },
   "outputs": [
    {
     "data": {
      "text/plain": [
       "15265"
      ]
     },
     "execution_count": 151,
     "metadata": {
     },
     "output_type": "execute_result"
    }
   ],
   "source": [
    "u2=(r*w)%q;u2"
   ]
  },
  {
   "cell_type": "markdown",
   "metadata": {
    "collapsed": false
   },
   "source": [
    "v = [g^(u1)*y^(u2) mod p] mod q"
   ]
  },
  {
   "cell_type": "code",
   "execution_count": 152,
   "metadata": {
    "collapsed": false
   },
   "outputs": [
    {
     "data": {
      "text/plain": [
       "14635"
      ]
     },
     "execution_count": 152,
     "metadata": {
     },
     "output_type": "execute_result"
    }
   ],
   "source": [
    "v=((power_mod(g,u1,p)*power_mod(y,u2,p))%p)%q;v"
   ]
  },
  {
   "cell_type": "code",
   "execution_count": 153,
   "metadata": {
    "collapsed": false
   },
   "outputs": [
    {
     "data": {
      "text/plain": [
       "True"
      ]
     },
     "execution_count": 153,
     "metadata": {
     },
     "output_type": "execute_result"
    }
   ],
   "source": [
    "v==r"
   ]
  }
 ],
 "metadata": {
  "kernelspec": {
   "display_name": "SageMath 9.4",
   "language": "sagemath",
   "metadata": {
    "cocalc": {
     "description": "Open-source mathematical software system",
     "priority": 10,
     "url": "https://www.sagemath.org/"
    }
   },
   "name": "sage-9.4",
   "resource_dir": "/ext/jupyter/kernels/sage-9.4"
  },
  "language_info": {
   "codemirror_mode": {
    "name": "ipython",
    "version": 3
   },
   "file_extension": ".py",
   "mimetype": "text/x-python",
   "name": "python",
   "nbconvert_exporter": "python",
   "pygments_lexer": "ipython3",
   "version": "3.9.5"
  }
 },
 "nbformat": 4,
 "nbformat_minor": 4
}