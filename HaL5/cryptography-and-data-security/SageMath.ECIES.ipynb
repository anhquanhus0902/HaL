{
 "cells": [
  {
   "cell_type": "markdown",
   "metadata": {},
   "source": [
    "Lược đồ mã hóa & giải mã ECIES\n",
    "\n",
    "Nguồn: https://github.com/sara62/cryptosage"
   ]
  },
  {
   "cell_type": "code",
   "execution_count": null,
   "metadata": {},
   "outputs": [],
   "source": [
    "# Cần load các file\n",
    "#load('cryptosage/prime192v1.sage')\n",
    "#load('cryptosage/digest.sage')\n",
    "#load('cryptosage/mathhelper.sage')"
   ]
  },
  {
   "cell_type": "code",
   "execution_count": null,
   "metadata": {},
   "outputs": [],
   "source": []
  },
  {
   "cell_type": "code",
   "execution_count": 7,
   "metadata": {},
   "outputs": [],
   "source": [
    "# elliptic curve domain parameters, prime192v1\n",
    "#\n",
    "# p = 2^192 - 2^64 - 1\n",
    "# a = -3\n",
    "# b = 0x64210519E59C80E70FA7E9AB72243049FEB8DEECC146B9B1\n",
    "# x = 0x188DA80EB03090F67CBF20EB43A18800F4FF0AFD82FF1012\n",
    "# y = 0x07192B95FFC8DA78631011ED6B24CDD573F977A11E794811\n",
    "# n = 0xFFFFFFFFFFFFFFFFFFFFFFFF99DEF836146BC9B1B4D22831\n",
    "# h = 1\n",
    "#\n",
    "\n",
    "F = FiniteField(2^192 - 2^64 - 1)\n",
    "a  = -3\n",
    "b  = 0x64210519E59C80E70FA7E9AB72243049FEB8DEECC146B9B1\n",
    "E  = EllipticCurve(F, [a, b])\n",
    "P  = E((0x188DA80EB03090F67CBF20EB43A18800F4FF0AFD82FF1012,\n",
    "\t0x07192B95FFC8DA78631011ED6B24CDD573F977A11E794811))\n",
    "n  = 0xFFFFFFFFFFFFFFFFFFFFFFFF99DEF836146BC9B1B4D22831\n",
    "h  = 1\n",
    "Fn = FiniteField(n)"
   ]
  },
  {
   "cell_type": "code",
   "execution_count": 8,
   "metadata": {},
   "outputs": [
    {
     "data": {
      "text/plain": [
       "Finite Field of size 6277101735386680763835789423176059013767194773182842284081"
      ]
     },
     "execution_count": 8,
     "metadata": {},
     "output_type": "execute_result"
    }
   ],
   "source": [
    "Fn"
   ]
  },
  {
   "cell_type": "code",
   "execution_count": 11,
   "metadata": {},
   "outputs": [],
   "source": [
    "# Algorithm 4.24 Elliptic curve key pair generation\n",
    "# Require:\n",
    "#\tgenerator point P of elliptic curve E\n",
    "#\torder n of P and the field Zn defined by n\n",
    "# Input:\n",
    "#\tN/A\n",
    "# Output:\n",
    "#\tkeypair (Q, d)\n",
    "#\t\tpublic key point Q on curve E\n",
    "#\t\tprivate key d in [1, n-1]\n",
    "#\n",
    "def ec_keygen():\n",
    "    print(\"keygen\")\n",
    "    d = randint(1, n - 1)\n",
    "    Q = d * P\n",
    "    return (Q, d)"
   ]
  },
  {
   "cell_type": "code",
   "execution_count": 12,
   "metadata": {},
   "outputs": [
    {
     "name": "stdout",
     "output_type": "stream",
     "text": [
      "keygen\n"
     ]
    },
    {
     "data": {
      "text/plain": [
       "((3219111610613358183542838271671416630398847458863477932913 : 871633723302901091515929119260834933527254961529684842778 : 1),\n",
       " 871519068760295588806893242525372809390482873792227098369)"
      ]
     },
     "execution_count": 12,
     "metadata": {},
     "output_type": "execute_result"
    }
   ],
   "source": [
    "ec_keygen()"
   ]
  },
  {
   "cell_type": "code",
   "execution_count": 4,
   "metadata": {},
   "outputs": [],
   "source": [
    "# Algorithm 4.42 ECIES encryption\n",
    "# Require:\n",
    "# generator point P of elliptic curve E\n",
    "# order n of P and the field Zn defined by n\n",
    "# Input:\n",
    "#  message m\n",
    "#  public key Q\n",
    "# Output:\n",
    "# Ciphertext (R,C,t).\n",
    "#\n",
    "\n",
    "def ecies_encrypt(Q, m):\n",
    "    k = randint(1, n - 1)\n",
    "    R = k * P\n",
    "    Z = h * k * Q\n",
    "    l = ceil(math.log(n, 2)/8)\n",
    "    (zx, zy) = Z.xy()\n",
    "    zxstr = I2OSP(zx, l)\n",
    "    rstr = point2str(R, l)\n",
    "    str = KDF(zxstr, l, rstr)\n",
    "    k1 = str[0:l]\n",
    "    k2 = str[l:2*l]\n",
    "    print(k1)\n",
    "    aesobj = AES.new(k1)\n",
    "    C = aesobj.encrypt(pad(m))\n",
    "    hmacobj = hmac.new(k2)\n",
    "    hmacobj.update(C)\n",
    "    t = hmacobj.digest()\n",
    "    print(t)\n",
    "    return [R, C, t]"
   ]
  },
  {
   "cell_type": "code",
   "execution_count": 13,
   "metadata": {},
   "outputs": [
    {
     "name": "stdout",
     "output_type": "stream",
     "text": [
      "keygen\n"
     ]
    }
   ],
   "source": [
    "(Q, d) = ec_keygen()"
   ]
  },
  {
   "cell_type": "code",
   "execution_count": 14,
   "metadata": {},
   "outputs": [
    {
     "data": {
      "text/plain": [
       "(6228556327555745807561503616435220683988145186967202486841 : 3267570400187931883573360604617139155976253398630511539563 : 1)"
      ]
     },
     "execution_count": 14,
     "metadata": {},
     "output_type": "execute_result"
    }
   ],
   "source": [
    "Q"
   ]
  },
  {
   "cell_type": "code",
   "execution_count": 15,
   "metadata": {},
   "outputs": [
    {
     "data": {
      "text/plain": [
       "2915942612306015850552618892716344743363107847870191726739"
      ]
     },
     "execution_count": 15,
     "metadata": {},
     "output_type": "execute_result"
    }
   ],
   "source": [
    "d"
   ]
  },
  {
   "cell_type": "code",
   "execution_count": 16,
   "metadata": {},
   "outputs": [],
   "source": [
    "#pk: Q, sk:d\n",
    "m = 'hello'"
   ]
  },
  {
   "cell_type": "code",
   "execution_count": 17,
   "metadata": {},
   "outputs": [
    {
     "ename": "NameError",
     "evalue": "name 'I2OSP' is not defined",
     "output_type": "error",
     "traceback": [
      "\u001b[0;31m---------------------------------------------------------------------------\u001b[0m",
      "\u001b[0;31mNameError\u001b[0m                                 Traceback (most recent call last)",
      "\u001b[0;32m<ipython-input-17-1f46d458d9b4>\u001b[0m in \u001b[0;36m<module>\u001b[0;34m()\u001b[0m\n\u001b[1;32m      1\u001b[0m \u001b[0;31m# ECIES\u001b[0m\u001b[0;34m\u001b[0m\u001b[0;34m\u001b[0m\u001b[0;34m\u001b[0m\u001b[0m\n\u001b[0;32m----> 2\u001b[0;31m \u001b[0;34m[\u001b[0m\u001b[0mR\u001b[0m\u001b[0;34m,\u001b[0m \u001b[0mC\u001b[0m\u001b[0;34m,\u001b[0m \u001b[0mt\u001b[0m\u001b[0;34m]\u001b[0m \u001b[0;34m=\u001b[0m \u001b[0mecies_encrypt\u001b[0m\u001b[0;34m(\u001b[0m\u001b[0mQ\u001b[0m\u001b[0;34m,\u001b[0m \u001b[0mm\u001b[0m\u001b[0;34m)\u001b[0m\u001b[0;34m\u001b[0m\u001b[0;34m\u001b[0m\u001b[0m\n\u001b[0m",
      "\u001b[0;32m<ipython-input-4-87278d7c64b7>\u001b[0m in \u001b[0;36mecies_encrypt\u001b[0;34m(Q, m)\u001b[0m\n\u001b[1;32m      5\u001b[0m     \u001b[0ml\u001b[0m \u001b[0;34m=\u001b[0m \u001b[0mceil\u001b[0m\u001b[0;34m(\u001b[0m\u001b[0mmath\u001b[0m\u001b[0;34m.\u001b[0m\u001b[0mlog\u001b[0m\u001b[0;34m(\u001b[0m\u001b[0mn\u001b[0m\u001b[0;34m,\u001b[0m \u001b[0mInteger\u001b[0m\u001b[0;34m(\u001b[0m\u001b[0;36m2\u001b[0m\u001b[0;34m)\u001b[0m\u001b[0;34m)\u001b[0m\u001b[0;34m/\u001b[0m\u001b[0mInteger\u001b[0m\u001b[0;34m(\u001b[0m\u001b[0;36m8\u001b[0m\u001b[0;34m)\u001b[0m\u001b[0;34m)\u001b[0m\u001b[0;34m\u001b[0m\u001b[0;34m\u001b[0m\u001b[0m\n\u001b[1;32m      6\u001b[0m     \u001b[0;34m(\u001b[0m\u001b[0mzx\u001b[0m\u001b[0;34m,\u001b[0m \u001b[0mzy\u001b[0m\u001b[0;34m)\u001b[0m \u001b[0;34m=\u001b[0m \u001b[0mZ\u001b[0m\u001b[0;34m.\u001b[0m\u001b[0mxy\u001b[0m\u001b[0;34m(\u001b[0m\u001b[0;34m)\u001b[0m\u001b[0;34m\u001b[0m\u001b[0;34m\u001b[0m\u001b[0m\n\u001b[0;32m----> 7\u001b[0;31m     \u001b[0mzxstr\u001b[0m \u001b[0;34m=\u001b[0m \u001b[0mI2OSP\u001b[0m\u001b[0;34m(\u001b[0m\u001b[0mzx\u001b[0m\u001b[0;34m,\u001b[0m \u001b[0ml\u001b[0m\u001b[0;34m)\u001b[0m\u001b[0;34m\u001b[0m\u001b[0;34m\u001b[0m\u001b[0m\n\u001b[0m\u001b[1;32m      8\u001b[0m     \u001b[0mrstr\u001b[0m \u001b[0;34m=\u001b[0m \u001b[0mpoint2str\u001b[0m\u001b[0;34m(\u001b[0m\u001b[0mR\u001b[0m\u001b[0;34m,\u001b[0m \u001b[0ml\u001b[0m\u001b[0;34m)\u001b[0m\u001b[0;34m\u001b[0m\u001b[0;34m\u001b[0m\u001b[0m\n\u001b[1;32m      9\u001b[0m     \u001b[0mstr\u001b[0m \u001b[0;34m=\u001b[0m \u001b[0mKDF\u001b[0m\u001b[0;34m(\u001b[0m\u001b[0mzxstr\u001b[0m\u001b[0;34m,\u001b[0m \u001b[0ml\u001b[0m\u001b[0;34m,\u001b[0m \u001b[0mrstr\u001b[0m\u001b[0;34m)\u001b[0m\u001b[0;34m\u001b[0m\u001b[0;34m\u001b[0m\u001b[0m\n",
      "\u001b[0;31mNameError\u001b[0m: name 'I2OSP' is not defined"
     ]
    }
   ],
   "source": [
    "# ECIES\n",
    "[R, C, t] = ecies_encrypt(Q, m)"
   ]
  },
  {
   "cell_type": "code",
   "execution_count": 5,
   "metadata": {},
   "outputs": [],
   "source": [
    "# Algorithm 4.43 ECIES decryption\n",
    "# Require:\n",
    "#   generator point P of elliptic curve E\n",
    "#   order n of P and the field Zn defined by n\n",
    "# Input:\n",
    "#   private key d\n",
    "#   ciphertext (R,C,t)\n",
    "# Output:\n",
    "#   Plaintext m or rejection of the ciphertext.\n",
    "#\n",
    "\n",
    "def ecies_decrypt(R, C, t, d):\n",
    "    Z = h * d * R\n",
    "    l = ceil(math.log(n, 2)/8)\n",
    "    (zx, zy) = Z.xy()\n",
    "    zxstr = I2OSP(zx, l)\n",
    "    rstr = point2str(R, l)\n",
    "    str = KDF(zxstr, l, rstr)\n",
    "    k1 = str[0:l]\n",
    "    k2 = str[l:2*l]\n",
    "    hmacobj = hmac.new(k2)\n",
    "    hmacobj.update(C)\n",
    "    t1 = hmacobj.digest()\n",
    "    print(t1)\n",
    "    if t1 != t:\n",
    "        return False\n",
    "    aesobj = AES.new(k1)\n",
    "    m = aesobj.decrypt(C)\n",
    "    return m"
   ]
  },
  {
   "cell_type": "code",
   "execution_count": null,
   "metadata": {},
   "outputs": [],
   "source": []
  }
 ],
 "metadata": {
  "kernelspec": {
   "display_name": "SageMath 9.0",
   "language": "sage",
   "name": "sagemath"
  },
  "language_info": {
   "codemirror_mode": {
    "name": "ipython",
    "version": 3
   },
   "file_extension": ".py",
   "mimetype": "text/x-python",
   "name": "python",
   "nbconvert_exporter": "python",
   "pygments_lexer": "ipython3",
   "version": "3.7.3"
  }
 },
 "nbformat": 4,
 "nbformat_minor": 2
}
