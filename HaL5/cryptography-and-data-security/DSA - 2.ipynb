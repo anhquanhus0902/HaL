{
 "cells": [
  {
   "cell_type": "code",
   "execution_count": null,
   "metadata": {},
   "outputs": [],
   "source": [
    "DSA (Stallings, Appendix B11)\n",
    "\n",
    "Thủ tục sinh các tham số q (số nguyên tố 16 bit), p (số nguyên tố 64 bit)"
   ]
  },
  {
   "cell_type": "code",
   "execution_count": 1,
   "metadata": {},
   "outputs": [],
   "source": [
    "def DSA_generate_domain_parameters():\n",
    "    g=1;\n",
    "    while (1==g):\n",
    "        q=1\n",
    "        while (q<2^15):\n",
    "            q=random_prime(2^16)\n",
    "            p=1;\n",
    "            while (not is_prime(p)):\n",
    "                p=(2^48+randint(1,2^46)*2)*q+1\n",
    "            h=randint(2,p-2)\n",
    "            g=power_mod(h,int((p-1)/q),p)\n",
    "    return(p,q,g)"
   ]
  },
  {
   "cell_type": "code",
   "execution_count": 4,
   "metadata": {},
   "outputs": [
    {
     "data": {
      "text/plain": [
       "(16976635364407545109, 53089, 10639877548847927262)"
      ]
     },
     "execution_count": 4,
     "metadata": {},
     "output_type": "execute_result"
    }
   ],
   "source": [
    "para=DSA_generate_domain_parameters();para"
   ]
  },
  {
   "cell_type": "markdown",
   "metadata": {},
   "source": [
    "Đã xong bước sinh các tham số: (p,q,g)\n",
    "\n",
    "Thuật toán sinh khóa: (x,y)\n",
    "Sinh khóa bí mật x và khóa công khai y"
   ]
  },
  {
   "cell_type": "code",
   "execution_count": 3,
   "metadata": {},
   "outputs": [],
   "source": [
    "def DSA_generate_keypair(p,q,g):\n",
    "    x=randint(2,q-1)\n",
    "    y=power_mod(g,x,p)\n",
    "    return(x,y)"
   ]
  },
  {
   "cell_type": "code",
   "execution_count": 8,
   "metadata": {},
   "outputs": [
    {
     "data": {
      "text/plain": [
       "(26247, 7128861608069649945)"
      ]
     },
     "execution_count": 8,
     "metadata": {},
     "output_type": "execute_result"
    }
   ],
   "source": [
    "keypair=DSA_generate_keypair(para[0],para[1],para[2]);keypair"
   ]
  },
  {
   "cell_type": "markdown",
   "metadata": {},
   "source": [
    "Có cặp khóa (x,y)\n",
    "\n",
    "Thuật toán kí"
   ]
  },
  {
   "cell_type": "code",
   "execution_count": 9,
   "metadata": {},
   "outputs": [],
   "source": [
    "def DSA_sign(p,q,g,x,H):\n",
    "    k=randint(2,q-1)\n",
    "    r=power_mod(g,k,p)%q\n",
    "    kinv=inverse_mod(k,q)\n",
    "    s=(kinv*(H+x*r))%q\n",
    "    return (r,s)"
   ]
  },
  {
   "cell_type": "code",
   "execution_count": null,
   "metadata": {},
   "outputs": [],
   "source": [
    "Ví dụ một giá trị băm của văn bản:\n",
    "\n",
    "(Bài kiểm tra: Bước 1 / M=\"Họ và tên mã sinh vien ngay thang nam sinh\").\n",
    "Ví dụ: Nguyễn Văn Bình với mã sinh viên 12567891 15/03/2001 thì\n",
    "    M = \"Nguyen Van Binh 12567891  15032001\", lấy một loại hàm băm trong thư viện \n",
    "    đã có)"
   ]
  },
  {
   "cell_type": "code",
   "execution_count": 11,
   "metadata": {},
   "outputs": [],
   "source": [
    "H=7236"
   ]
  },
  {
   "cell_type": "code",
   "execution_count": 13,
   "metadata": {},
   "outputs": [
    {
     "data": {
      "text/plain": [
       "(32681, 26296)"
      ]
     },
     "execution_count": 13,
     "metadata": {},
     "output_type": "execute_result"
    }
   ],
   "source": [
    "DSA_sign(para[0],para[1],para[2],keypair[0],H)"
   ]
  },
  {
   "cell_type": "markdown",
   "metadata": {},
   "source": [
    "Chữ ký số: (r,s)\n",
    "\n",
    "\n",
    "Bài kiểm tra: Bước 2, viết lại phần dưới đây bằng một thủ tục \"DSA_signcheck\"\n",
    "\n",
    "Input: p,q,g,y,r,s,H\n",
    "Output:   (True/False)\n",
    "\n",
    "\n",
    "\n",
    "Bước xác thực:\n",
    "\n",
    " w=s^(-1) mod q"
   ]
  },
  {
   "cell_type": "code",
   "execution_count": 149,
   "metadata": {},
   "outputs": [
    {
     "data": {
      "text/plain": [
       "6118"
      ]
     },
     "execution_count": 149,
     "metadata": {},
     "output_type": "execute_result"
    }
   ],
   "source": [
    "w=inverse_mod(s,q);w"
   ]
  },
  {
   "cell_type": "code",
   "execution_count": 150,
   "metadata": {},
   "outputs": [
    {
     "data": {
      "text/plain": [
       "11729"
      ]
     },
     "execution_count": 150,
     "metadata": {},
     "output_type": "execute_result"
    }
   ],
   "source": [
    "u1=(H*w)%q;u1"
   ]
  },
  {
   "cell_type": "code",
   "execution_count": 151,
   "metadata": {},
   "outputs": [
    {
     "data": {
      "text/plain": [
       "15265"
      ]
     },
     "execution_count": 151,
     "metadata": {},
     "output_type": "execute_result"
    }
   ],
   "source": [
    "u2=(r*w)%q;u2"
   ]
  },
  {
   "cell_type": "markdown",
   "metadata": {},
   "source": [
    "v = [g^(u1)*y^(u2) mod p] mod q"
   ]
  },
  {
   "cell_type": "code",
   "execution_count": 152,
   "metadata": {},
   "outputs": [
    {
     "data": {
      "text/plain": [
       "14635"
      ]
     },
     "execution_count": 152,
     "metadata": {},
     "output_type": "execute_result"
    }
   ],
   "source": [
    "v=((power_mod(g,u1,p)*power_mod(y,u2,p))%p)%q;v"
   ]
  },
  {
   "cell_type": "code",
   "execution_count": 153,
   "metadata": {},
   "outputs": [
    {
     "data": {
      "text/plain": [
       "True"
      ]
     },
     "execution_count": 153,
     "metadata": {},
     "output_type": "execute_result"
    }
   ],
   "source": [
    "v==r"
   ]
  }
 ],
 "metadata": {
  "kernelspec": {
   "display_name": "SageMath 9.0",
   "language": "sage",
   "name": "sagemath"
  },
  "language_info": {
   "codemirror_mode": {
    "name": "ipython",
    "version": 3
   },
   "file_extension": ".py",
   "mimetype": "text/x-python",
   "name": "python",
   "nbconvert_exporter": "python",
   "pygments_lexer": "ipython3",
   "version": "3.7.3"
  }
 },
 "nbformat": 4,
 "nbformat_minor": 2
}
