{
 "cells": [
  {
   "cell_type": "markdown",
   "metadata": {
    "collapsed": false,
    "slideshow": {
     "slide_type": "-"
    }
   },
   "source": [
    "Chữ ký số RSA bằng Sage Math (Phó Đức Tài, 27/10/2021)\n",
    "\n",
    "Thuật toán mã hóa công khai RSA đã học trong phần trước còn được sử dụng để tạo ra chữ ký điện tử.\n",
    "\n"
   ]
  },
  {
   "cell_type": "markdown",
   "metadata": {
    "collapsed": false
   },
   "source": [
    "Ví dụ trên lớp:\n",
    "Alice: pA=29, qA=71, eA=103, dA=647, nA=2059\n",
    "Bob: pB=29, qB=37, eB=571, dB=835, nB=1073\n",
    "\n",
    "Alice cần gửi thông điệp m=331 đã mã hóa & kèm chữ ký s=m^dA = 331^647 (mod 2059)\n",
    "\n",
    "Bob nhận được và kiểm chứng + giải mã."
   ]
  },
  {
   "cell_type": "code",
   "execution_count": 1,
   "metadata": {
    "collapsed": false
   },
   "outputs": [
   ],
   "source": [
    "pA=29;qA=71;eA=103;pB=29;qB=37;eB=571;"
   ]
  },
  {
   "cell_type": "code",
   "execution_count": 2,
   "metadata": {
    "collapsed": false
   },
   "outputs": [
   ],
   "source": [
    "nA=pA*qA;nB=pB*qB"
   ]
  },
  {
   "cell_type": "code",
   "execution_count": 3,
   "metadata": {
    "collapsed": false
   },
   "outputs": [
    {
     "data": {
      "text/plain": [
       "1960"
      ]
     },
     "execution_count": 3,
     "metadata": {
     },
     "output_type": "execute_result"
    }
   ],
   "source": [
    "phiA=(pA-1)*(qA-1);phiA"
   ]
  },
  {
   "cell_type": "code",
   "execution_count": 4,
   "metadata": {
    "collapsed": false
   },
   "outputs": [
    {
     "data": {
      "text/plain": [
       "1008"
      ]
     },
     "execution_count": 4,
     "metadata": {
     },
     "output_type": "execute_result"
    }
   ],
   "source": [
    "phiB=(pB-1)*(qB-1);phiB"
   ]
  },
  {
   "cell_type": "markdown",
   "metadata": {
    "collapsed": false
   },
   "source": [
    "Khóa bí mật dA và dB của Alice & Bob tương ứng là:"
   ]
  },
  {
   "cell_type": "code",
   "execution_count": 5,
   "metadata": {
    "collapsed": false
   },
   "outputs": [
    {
     "data": {
      "text/plain": [
       "647"
      ]
     },
     "execution_count": 5,
     "metadata": {
     },
     "output_type": "execute_result"
    }
   ],
   "source": [
    "dA=inverse_mod(eA,phiA);dA"
   ]
  },
  {
   "cell_type": "code",
   "execution_count": 6,
   "metadata": {
    "collapsed": false
   },
   "outputs": [
    {
     "data": {
      "text/plain": [
       "835"
      ]
     },
     "execution_count": 6,
     "metadata": {
     },
     "output_type": "execute_result"
    }
   ],
   "source": [
    "dB=inverse_mod(eB,phiB);dB"
   ]
  },
  {
   "cell_type": "markdown",
   "metadata": {
    "collapsed": false
   },
   "source": [
    "Alice mã hóa thông điệp m=331: m^eB (mod nB)"
   ]
  },
  {
   "cell_type": "code",
   "execution_count": 7,
   "metadata": {
    "collapsed": false
   },
   "outputs": [
   ],
   "source": [
    "m=331"
   ]
  },
  {
   "cell_type": "code",
   "execution_count": 8,
   "metadata": {
    "collapsed": false
   },
   "outputs": [
    {
     "data": {
      "text/plain": [
       "829"
      ]
     },
     "execution_count": 8,
     "metadata": {
     },
     "output_type": "execute_result"
    }
   ],
   "source": [
    "cA=power_mod(m,eB,nB);cA"
   ]
  },
  {
   "cell_type": "markdown",
   "metadata": {
    "collapsed": false
   },
   "source": [
    "Alice đồng thời tạo chữ ký: sA=m^dA (mod nA)"
   ]
  },
  {
   "cell_type": "code",
   "execution_count": 9,
   "metadata": {
    "collapsed": false
   },
   "outputs": [
    {
     "data": {
      "text/plain": [
       "1235"
      ]
     },
     "execution_count": 9,
     "metadata": {
     },
     "output_type": "execute_result"
    }
   ],
   "source": [
    "sA=power_mod(m,dA,nA);sA "
   ]
  },
  {
   "cell_type": "code",
   "execution_count": 0,
   "metadata": {
    "collapsed": false
   },
   "outputs": [
   ],
   "source": [
    "Bob nhận được (cA,sA). Bob thực hiện:\n",
    "Bước 1: Giải mã, tính cA^dB (mod nB)  được giá trị m1\n",
    "Bước 2: Xác thực chữ ký, tính sA^eA (mod nA) được giá trị m2\n",
    "        Nếu m1=m2 thì đây đúng là Alice !!! và bản rõ mà Alice muốn gửi là m1.\n",
    "        Nếu m1 khác m2: Đã có giả mạo."
   ]
  },
  {
   "cell_type": "code",
   "execution_count": 10,
   "metadata": {
    "collapsed": false
   },
   "outputs": [
    {
     "data": {
      "text/plain": [
       "331"
      ]
     },
     "execution_count": 10,
     "metadata": {
     },
     "output_type": "execute_result"
    }
   ],
   "source": [
    "m1=power_mod(cA,dB,nB);m1"
   ]
  },
  {
   "cell_type": "code",
   "execution_count": 11,
   "metadata": {
    "collapsed": false
   },
   "outputs": [
    {
     "data": {
      "text/plain": [
       "331"
      ]
     },
     "execution_count": 11,
     "metadata": {
     },
     "output_type": "execute_result"
    }
   ],
   "source": [
    "m2=power_mod(sA,eA,nA);m2"
   ]
  },
  {
   "cell_type": "code",
   "execution_count": 12,
   "metadata": {
    "collapsed": false
   },
   "outputs": [
    {
     "data": {
      "text/plain": [
       "True"
      ]
     },
     "execution_count": 12,
     "metadata": {
     },
     "output_type": "execute_result"
    }
   ],
   "source": [
    "m1==m2"
   ]
  },
  {
   "cell_type": "markdown",
   "metadata": {
    "collapsed": false
   },
   "source": [
    "Tính toán thực hành RSA, RSA-DSA một cách hệ thống:\n",
    "\n",
    "\n",
    "Sinh khóa:\n",
    "Input: s (cỡ của số nguyên tố p,q <s)\n",
    "Output: [n,phi,[e,n],[d,n]], với n=pq, phi=(p-1)(q-1),\n",
    "        [e,n] là khóa công khai, [d,n] khóa bí mật."
   ]
  },
  {
   "cell_type": "code",
   "execution_count": 13,
   "metadata": {
    "collapsed": false
   },
   "outputs": [
   ],
   "source": [
    "def keygen(s):\n",
    "    p=random_prime(s);q=random_prime(s);\n",
    "    if p!=q:\n",
    "        n=p*q;\n",
    "        phi=(p-1)*(q-1);\n",
    "        ch=true;\n",
    "        while ch:\n",
    "            e=randint(2,phi);\n",
    "            if gcd(e,phi)==1:\n",
    "                ch=false\n",
    "        d=xgcd(e,phi)[1] % phi;\n",
    "    return([n,phi,[e,n],[d,n]])"
   ]
  },
  {
   "cell_type": "code",
   "execution_count": 15,
   "metadata": {
    "collapsed": false
   },
   "outputs": [
    {
     "data": {
      "text/plain": [
       "[4352759, 4345704, [3488935, 4352759], [2227543, 4352759]]"
      ]
     },
     "execution_count": 15,
     "metadata": {
     },
     "output_type": "execute_result"
    }
   ],
   "source": [
    "keygen(10000)"
   ]
  },
  {
   "cell_type": "markdown",
   "metadata": {
    "collapsed": false
   },
   "source": [
    "Khóa cho Alice"
   ]
  },
  {
   "cell_type": "code",
   "execution_count": 16,
   "metadata": {
    "collapsed": false
   },
   "outputs": [
    {
     "data": {
      "text/plain": [
       "[1668859, 1662640, [554219, 1668859], [782419, 1668859]]"
      ]
     },
     "execution_count": 16,
     "metadata": {
     },
     "output_type": "execute_result"
    }
   ],
   "source": [
    "a=keygen(10000);a"
   ]
  },
  {
   "cell_type": "code",
   "execution_count": 17,
   "metadata": {
    "collapsed": false
   },
   "outputs": [
    {
     "data": {
      "text/plain": [
       "1668859"
      ]
     },
     "execution_count": 17,
     "metadata": {
     },
     "output_type": "execute_result"
    }
   ],
   "source": [
    "nA=a[0];nA"
   ]
  },
  {
   "cell_type": "code",
   "execution_count": 18,
   "metadata": {
    "collapsed": false
   },
   "outputs": [
    {
     "data": {
      "text/plain": [
       "1662640"
      ]
     },
     "execution_count": 18,
     "metadata": {
     },
     "output_type": "execute_result"
    }
   ],
   "source": [
    "phiA=a[1];phiA"
   ]
  },
  {
   "cell_type": "code",
   "execution_count": 19,
   "metadata": {
    "collapsed": false
   },
   "outputs": [
    {
     "data": {
      "text/plain": [
       "554219"
      ]
     },
     "execution_count": 19,
     "metadata": {
     },
     "output_type": "execute_result"
    }
   ],
   "source": [
    "eA=a[2][0];eA"
   ]
  },
  {
   "cell_type": "code",
   "execution_count": 20,
   "metadata": {
    "collapsed": false
   },
   "outputs": [
    {
     "data": {
      "text/plain": [
       "782419"
      ]
     },
     "execution_count": 20,
     "metadata": {
     },
     "output_type": "execute_result"
    }
   ],
   "source": [
    "dA=a[3][0];dA"
   ]
  },
  {
   "cell_type": "markdown",
   "metadata": {
    "collapsed": false
   },
   "source": [
    "Văn bản cần ký, m."
   ]
  },
  {
   "cell_type": "code",
   "execution_count": 21,
   "metadata": {
    "collapsed": false
   },
   "outputs": [
    {
     "data": {
      "text/plain": [
       "122"
      ]
     },
     "execution_count": 21,
     "metadata": {
     },
     "output_type": "execute_result"
    }
   ],
   "source": [
    "m=randint(2,2^10);m"
   ]
  },
  {
   "cell_type": "markdown",
   "metadata": {
    "collapsed": false
   },
   "source": [
    "Alice công khai n, e, bí mật d.\n",
    "Alice ký m bằng chữ ký d, tính m^d rồi gửi cho Bob. \n",
    "Bob có (m^d,e) từ Alice.\n",
    "\n",
    "Khi đó Bob có thể tính m thông qua đẳng thức m=(m^d)^e.\n",
    "\n",
    "Vấn đề: Nếu kẻ thứ 3, Eve, thay đổi giá trị của m^d bằng XYZ. Khi đó Bob tính (XYZ)^e sẽ ra một giá trị khác m.\n",
    "\n",
    "Từ đó chúng cần có cách để Bob có thể biết được giá trị m^d nhận được từ Alice là giá trị thật sự. Cần \"chữ ký số\"."
   ]
  },
  {
   "cell_type": "code",
   "execution_count": 22,
   "metadata": {
    "collapsed": false
   },
   "outputs": [
    {
     "data": {
      "text/plain": [
       "1651540"
      ]
     },
     "execution_count": 22,
     "metadata": {
     },
     "output_type": "execute_result"
    }
   ],
   "source": [
    "mA=power_mod(m,dA,nA);mA"
   ]
  },
  {
   "cell_type": "markdown",
   "metadata": {
    "collapsed": false
   },
   "source": [
    "Bob muốn đọc văn bản gốc của Alice"
   ]
  },
  {
   "cell_type": "code",
   "execution_count": 23,
   "metadata": {
    "collapsed": false
   },
   "outputs": [
    {
     "data": {
      "text/plain": [
       "122"
      ]
     },
     "execution_count": 23,
     "metadata": {
     },
     "output_type": "execute_result"
    }
   ],
   "source": [
    "m1=power_mod(mA,eA,nA);m1"
   ]
  },
  {
   "cell_type": "code",
   "execution_count": 24,
   "metadata": {
    "collapsed": false
   },
   "outputs": [
    {
     "data": {
      "text/plain": [
       "True"
      ]
     },
     "execution_count": 24,
     "metadata": {
     },
     "output_type": "execute_result"
    }
   ],
   "source": [
    "m1==m"
   ]
  },
  {
   "cell_type": "markdown",
   "metadata": {
    "collapsed": false
   },
   "source": [
    "Vì sao cần chữ ký?\n",
    "\n",
    "Giả sử có kẻ thứ 3, Eve, có thể thay đổi giá trị mA, khi đó giá trị mB=R1(mA)^d1 mà Bob tính được sẽ không bằng văn bản gốc.\n",
    "\n",
    "Để tránh điều này, khi gửi Alice mA, cô ấy cần gửi thêm nA=m^e2 (mod n2)\n",
    "\n",
    "Trong đó, Bob có khóa công khai (e2,n2) và khóa bí mật (d2,n2):\n",
    "\n",
    "Như vậy Alice gửi cho Bob (mA,nA), nA được coi như là chữ ký.\n",
    "\n",
    "Bob có thể xác thực chữ ký bằng cách kiểm tra:\n",
    "\n",
    "mB == (nA)^d2\n",
    "(vế phải = (m^e2)^d2 = m, mB=(mA)^e1). "
   ]
  },
  {
   "cell_type": "code",
   "execution_count": 25,
   "metadata": {
    "collapsed": false
   },
   "outputs": [
    {
     "data": {
      "text/plain": [
       "[89855663, 89832000, [47075347, 89855663], [12710683, 89855663]]"
      ]
     },
     "execution_count": 25,
     "metadata": {
     },
     "output_type": "execute_result"
    }
   ],
   "source": [
    "bob=keygen(20000);bob"
   ]
  },
  {
   "cell_type": "code",
   "execution_count": 26,
   "metadata": {
    "collapsed": false
   },
   "outputs": [
    {
     "data": {
      "text/plain": [
       "89855663"
      ]
     },
     "execution_count": 26,
     "metadata": {
     },
     "output_type": "execute_result"
    }
   ],
   "source": [
    "nB=bob[0];nB"
   ]
  },
  {
   "cell_type": "code",
   "execution_count": 27,
   "metadata": {
    "collapsed": false
   },
   "outputs": [
    {
     "data": {
      "text/plain": [
       "89832000"
      ]
     },
     "execution_count": 27,
     "metadata": {
     },
     "output_type": "execute_result"
    }
   ],
   "source": [
    "phiB=bob[1];phiB"
   ]
  },
  {
   "cell_type": "code",
   "execution_count": 28,
   "metadata": {
    "collapsed": false
   },
   "outputs": [
    {
     "data": {
      "text/plain": [
       "47075347"
      ]
     },
     "execution_count": 28,
     "metadata": {
     },
     "output_type": "execute_result"
    }
   ],
   "source": [
    "eB=bob[2][0];eB"
   ]
  },
  {
   "cell_type": "code",
   "execution_count": 29,
   "metadata": {
    "collapsed": false
   },
   "outputs": [
    {
     "data": {
      "text/plain": [
       "12710683"
      ]
     },
     "execution_count": 29,
     "metadata": {
     },
     "output_type": "execute_result"
    }
   ],
   "source": [
    "dB=bob[3][0];dB"
   ]
  },
  {
   "cell_type": "markdown",
   "metadata": {
    "collapsed": false
   },
   "source": [
    "Alice gửi cho Bob"
   ]
  },
  {
   "cell_type": "code",
   "execution_count": 30,
   "metadata": {
    "collapsed": false
   },
   "outputs": [
    {
     "data": {
      "text/plain": [
       "122"
      ]
     },
     "execution_count": 30,
     "metadata": {
     },
     "output_type": "execute_result"
    }
   ],
   "source": [
    "m"
   ]
  },
  {
   "cell_type": "code",
   "execution_count": 31,
   "metadata": {
    "collapsed": false
   },
   "outputs": [
   ],
   "source": [
    "def Alice_sign(m):\n",
    "    return [power_mod(m,eB,nB),power_mod(m,dA,nA)]"
   ]
  },
  {
   "cell_type": "code",
   "execution_count": 32,
   "metadata": {
    "collapsed": false
   },
   "outputs": [
    {
     "data": {
      "text/plain": [
       "[51375991, 1651540]"
      ]
     },
     "execution_count": 32,
     "metadata": {
     },
     "output_type": "execute_result"
    }
   ],
   "source": [
    "A=Alice_sign(m);A"
   ]
  },
  {
   "cell_type": "markdown",
   "metadata": {
    "collapsed": false
   },
   "source": [
    "Bob nhận được A=(mA,sA), kiểm chứng nểu \n",
    "mA^eA (mod nA) = sA^dB (mod nB)\n",
    "True thì cho m, False thì thông báo \"Có vấn đề\"."
   ]
  },
  {
   "cell_type": "code",
   "execution_count": 37,
   "metadata": {
    "collapsed": false
   },
   "outputs": [
   ],
   "source": [
    "def Bob_check(A):\n",
    "    # Lỗi sai ở đây, ta phải đổi chỗ A[0] và A[1] cho nhau!\n",
    "    if power_mod(A[1],eA,nA)==power_mod(A[0],dB,nB):\n",
    "        print('The signature is right and the message is:',power_mod(A[0],eA,nA) )\n",
    "    else:\n",
    "        print('Something wong!')"
   ]
  },
  {
   "cell_type": "code",
   "execution_count": 38,
   "metadata": {
    "collapsed": false
   },
   "outputs": [
    {
     "name": "stdout",
     "output_type": "stream",
     "text": [
      "The signature is right and the message is: 567646\n"
     ]
    }
   ],
   "source": [
    "Bob_check(A)"
   ]
  },
  {
   "cell_type": "markdown",
   "metadata": {
    "collapsed": false
   },
   "source": [
    "Thêm một ví dụ khác:"
   ]
  },
  {
   "cell_type": "code",
   "execution_count": 39,
   "metadata": {
    "collapsed": false
   },
   "outputs": [
    {
     "ename": "NameError",
     "evalue": "name 'n1' is not defined",
     "output_type": "error",
     "traceback": [
      "\u001b[0;31m---------------------------------------------------------------------------\u001b[0m",
      "\u001b[0;31mNameError\u001b[0m                                 Traceback (most recent call last)",
      "\u001b[0;32m<ipython-input-39-602665498d0c>\u001b[0m in \u001b[0;36m<module>\u001b[0;34m\u001b[0m\n\u001b[0;32m----> 1\u001b[0;31m \u001b[0mm\u001b[0m\u001b[0;34m=\u001b[0m\u001b[0mrandint\u001b[0m\u001b[0;34m(\u001b[0m\u001b[0mInteger\u001b[0m\u001b[0;34m(\u001b[0m\u001b[0;36m2\u001b[0m\u001b[0;34m)\u001b[0m\u001b[0;34m,\u001b[0m\u001b[0mmin\u001b[0m\u001b[0;34m(\u001b[0m\u001b[0mn1\u001b[0m\u001b[0;34m,\u001b[0m\u001b[0mn2\u001b[0m\u001b[0;34m)\u001b[0m\u001b[0;34m)\u001b[0m\u001b[0;34m;\u001b[0m\u001b[0mm\u001b[0m\u001b[0;34m\u001b[0m\u001b[0;34m\u001b[0m\u001b[0m\n\u001b[0m",
      "\u001b[0;31mNameError\u001b[0m: name 'n1' is not defined"
     ]
    }
   ],
   "source": [
    "m=randint(2,min(n1,n2));m"
   ]
  },
  {
   "cell_type": "code",
   "execution_count": 44,
   "metadata": {
    "collapsed": false,
    "scrolled": true
   },
   "outputs": [
    {
     "data": {
      "text/plain": [
       "[1461556, 16355958]"
      ]
     },
     "execution_count": 44,
     "metadata": {
     },
     "output_type": "execute_result"
    }
   ],
   "source": [
    "A=Alice_sign(m);A"
   ]
  },
  {
   "cell_type": "code",
   "execution_count": 45,
   "metadata": {
    "collapsed": false
   },
   "outputs": [
    {
     "name": "stdout",
     "output_type": "stream",
     "text": [
      "The signature is right and the message is: 1714096\n"
     ]
    }
   ],
   "source": [
    "Bob_check(A)"
   ]
  },
  {
   "cell_type": "markdown",
   "metadata": {
    "collapsed": false
   },
   "source": [
    "Thử một ví dụ khác khủng hơn xem?"
   ]
  },
  {
   "cell_type": "code",
   "execution_count": 46,
   "metadata": {
    "collapsed": false
   },
   "outputs": [
    {
     "data": {
      "text/plain": [
       "[3827034825948845169923395450385007254256765516007836189124335026966898680416946208125470166126464874874830277903069789139951361274181817706282781899928095384623010920147284528435978223280095524290961,\n",
       " 3827034825948845169923395450385007254256765516007836189124335026966898680416946208125470166126464868516204686515751446664259133515149218407114790278182095660364337876638016673802698063383344396863924,\n",
       " [513294563058303109492153561209108237342645098007775807710197252294257963677028446685260863660490668759274575053703779584833694267968733011133059813143212096006598879710131847555676158999332379578327,\n",
       "  3827034825948845169923395450385007254256765516007836189124335026966898680416946208125470166126464874874830277903069789139951361274181817706282781899928095384623010920147284528435978223280095524290961],\n",
       " [620292331072583990655805931534413483938648351733785600632183533347905390877245214577428606917132868993954819251104297420087325312228573645175915089890042203612779115403591696742580830289325393916819,\n",
       "  3827034825948845169923395450385007254256765516007836189124335026966898680416946208125470166126464874874830277903069789139951361274181817706282781899928095384623010920147284528435978223280095524290961]]"
      ]
     },
     "execution_count": 46,
     "metadata": {
     },
     "output_type": "execute_result"
    }
   ],
   "source": [
    "a=keygen(10^100);a"
   ]
  },
  {
   "cell_type": "code",
   "execution_count": 47,
   "metadata": {
    "collapsed": false
   },
   "outputs": [
    {
     "data": {
      "text/plain": [
       "3827034825948845169923395450385007254256765516007836189124335026966898680416946208125470166126464874874830277903069789139951361274181817706282781899928095384623010920147284528435978223280095524290961"
      ]
     },
     "execution_count": 47,
     "metadata": {
     },
     "output_type": "execute_result"
    }
   ],
   "source": [
    "n1=a[0];n1"
   ]
  },
  {
   "cell_type": "code",
   "execution_count": 48,
   "metadata": {
    "collapsed": false
   },
   "outputs": [
    {
     "data": {
      "text/plain": [
       "3827034825948845169923395450385007254256765516007836189124335026966898680416946208125470166126464868516204686515751446664259133515149218407114790278182095660364337876638016673802698063383344396863924"
      ]
     },
     "execution_count": 48,
     "metadata": {
     },
     "output_type": "execute_result"
    }
   ],
   "source": [
    "phi1=a[1];phi1"
   ]
  },
  {
   "cell_type": "code",
   "execution_count": 49,
   "metadata": {
    "collapsed": false
   },
   "outputs": [
    {
     "data": {
      "text/plain": [
       "513294563058303109492153561209108237342645098007775807710197252294257963677028446685260863660490668759274575053703779584833694267968733011133059813143212096006598879710131847555676158999332379578327"
      ]
     },
     "execution_count": 49,
     "metadata": {
     },
     "output_type": "execute_result"
    }
   ],
   "source": [
    "e1=a[2][0];e1"
   ]
  },
  {
   "cell_type": "code",
   "execution_count": 50,
   "metadata": {
    "collapsed": false
   },
   "outputs": [
    {
     "data": {
      "text/plain": [
       "620292331072583990655805931534413483938648351733785600632183533347905390877245214577428606917132868993954819251104297420087325312228573645175915089890042203612779115403591696742580830289325393916819"
      ]
     },
     "execution_count": 50,
     "metadata": {
     },
     "output_type": "execute_result"
    }
   ],
   "source": [
    "d1=a[3][0];d1"
   ]
  },
  {
   "cell_type": "code",
   "execution_count": 51,
   "metadata": {
    "collapsed": false
   },
   "outputs": [
    {
     "data": {
      "text/plain": [
       "[26170523785936606482105219854389757191242917626323645638409381093259435419761108601226980841078232092157847021518189115487245317861527204699675850852214632284204277598897736472008246662978989800413017,\n",
       " 26170523785936606482105219854389757191242917626323645638409381093259435419761108601226980841078232081911079403520417581528930726170128436954068532307837627798585610808628895123300067387990796353530320,\n",
       " [24717232245166293786057711575303213818278498725409144233825204338904309286519866362536713596169246196164696762663794486963092302178411388946637663763566871800554809909326081584395679720781164028629677,\n",
       "  26170523785936606482105219854389757191242917626323645638409381093259435419761108601226980841078232092157847021518189115487245317861527204699675850852214632284204277598897736472008246662978989800413017],\n",
       " [7259402754954733887135095654034148393646850871070547427804103986618062768030968237773029429991357171146975581946371528086501144236547479011280328050661103380018976824678002960960805450787179951566613,\n",
       "  26170523785936606482105219854389757191242917626323645638409381093259435419761108601226980841078232092157847021518189115487245317861527204699675850852214632284204277598897736472008246662978989800413017]]"
      ]
     },
     "execution_count": 51,
     "metadata": {
     },
     "output_type": "execute_result"
    }
   ],
   "source": [
    "bob=keygen(10^100);bob"
   ]
  },
  {
   "cell_type": "code",
   "execution_count": 52,
   "metadata": {
    "collapsed": false
   },
   "outputs": [
    {
     "data": {
      "text/plain": [
       "26170523785936606482105219854389757191242917626323645638409381093259435419761108601226980841078232092157847021518189115487245317861527204699675850852214632284204277598897736472008246662978989800413017"
      ]
     },
     "execution_count": 52,
     "metadata": {
     },
     "output_type": "execute_result"
    }
   ],
   "source": [
    "n2=bob[0];n2"
   ]
  },
  {
   "cell_type": "code",
   "execution_count": 53,
   "metadata": {
    "collapsed": false
   },
   "outputs": [
    {
     "data": {
      "text/plain": [
       "26170523785936606482105219854389757191242917626323645638409381093259435419761108601226980841078232081911079403520417581528930726170128436954068532307837627798585610808628895123300067387990796353530320"
      ]
     },
     "execution_count": 53,
     "metadata": {
     },
     "output_type": "execute_result"
    }
   ],
   "source": [
    "phi2=bob[1];phi2"
   ]
  },
  {
   "cell_type": "code",
   "execution_count": 54,
   "metadata": {
    "collapsed": false
   },
   "outputs": [
    {
     "data": {
      "text/plain": [
       "24717232245166293786057711575303213818278498725409144233825204338904309286519866362536713596169246196164696762663794486963092302178411388946637663763566871800554809909326081584395679720781164028629677"
      ]
     },
     "execution_count": 54,
     "metadata": {
     },
     "output_type": "execute_result"
    }
   ],
   "source": [
    "e2=bob[2][0];e2"
   ]
  },
  {
   "cell_type": "code",
   "execution_count": 55,
   "metadata": {
    "collapsed": false
   },
   "outputs": [
    {
     "data": {
      "text/plain": [
       "7259402754954733887135095654034148393646850871070547427804103986618062768030968237773029429991357171146975581946371528086501144236547479011280328050661103380018976824678002960960805450787179951566613"
      ]
     },
     "execution_count": 55,
     "metadata": {
     },
     "output_type": "execute_result"
    }
   ],
   "source": [
    "d2=bob[3][0];d2"
   ]
  },
  {
   "cell_type": "code",
   "execution_count": 56,
   "metadata": {
    "collapsed": false
   },
   "outputs": [
    {
     "data": {
      "text/plain": [
       "Ring of integers modulo 3827034825948845169923395450385007254256765516007836189124335026966898680416946208125470166126464874874830277903069789139951361274181817706282781899928095384623010920147284528435978223280095524290961"
      ]
     },
     "execution_count": 56,
     "metadata": {
     },
     "output_type": "execute_result"
    }
   ],
   "source": [
    "R1 = IntegerModRing(n1);R1"
   ]
  },
  {
   "cell_type": "code",
   "execution_count": 57,
   "metadata": {
    "collapsed": false
   },
   "outputs": [
    {
     "data": {
      "text/plain": [
       "Ring of integers modulo 26170523785936606482105219854389757191242917626323645638409381093259435419761108601226980841078232092157847021518189115487245317861527204699675850852214632284204277598897736472008246662978989800413017"
      ]
     },
     "execution_count": 57,
     "metadata": {
     },
     "output_type": "execute_result"
    }
   ],
   "source": [
    "R2 = IntegerModRing(n2);R2"
   ]
  },
  {
   "cell_type": "code",
   "execution_count": 58,
   "metadata": {
    "collapsed": false
   },
   "outputs": [
    {
     "data": {
      "text/plain": [
       "1618290619784131321815400719623791911450323960175753931451503643205821555782516591993944020831597399994311490652506428308168222405977264376900284690345914446621532198180588587615000089461145305178469"
      ]
     },
     "execution_count": 58,
     "metadata": {
     },
     "output_type": "execute_result"
    }
   ],
   "source": [
    "m=randint(2,min(n1,n2));m"
   ]
  },
  {
   "cell_type": "code",
   "execution_count": 59,
   "metadata": {
    "collapsed": false
   },
   "outputs": [
    {
     "data": {
      "text/plain": [
       "[6089405082367757565147764892026259210150575598342588221885394616348529355488557551806270910842038570672237449035442897730094200928255848250016325539623297545281860034883151353106723589123213318941,\n",
       " 14591640043130240529229157974925713957587300395071281031811439604002062027803980399302393080807432335765850548143740117598148544415654178922091520573506643041263934200423019075749261893582421616831812]"
      ]
     },
     "execution_count": 59,
     "metadata": {
     },
     "output_type": "execute_result"
    }
   ],
   "source": [
    "A=Alice_sign(m);A"
   ]
  },
  {
   "cell_type": "code",
   "execution_count": 60,
   "metadata": {
    "collapsed": false
   },
   "outputs": [
    {
     "name": "stdout",
     "output_type": "stream",
     "text": [
      "The signature is right and the message is: 1618290619784131321815400719623791911450323960175753931451503643205821555782516591993944020831597399994311490652506428308168222405977264376900284690345914446621532198180588587615000089461145305178469\n"
     ]
    }
   ],
   "source": [
    "Bob_check(A)"
   ]
  },
  {
   "cell_type": "code",
   "execution_count": 1,
   "metadata": {
    "collapsed": false
   },
   "outputs": [
    {
     "data": {
      "text/plain": [
       "2^2 * 43 * 2463036271792609010890981"
      ]
     },
     "execution_count": 1,
     "metadata": {
     },
     "output_type": "execute_result"
    }
   ],
   "source": [
    "factor(423642238748328749873248732)"
   ]
  },
  {
   "cell_type": "code",
   "execution_count": 2,
   "metadata": {
    "collapsed": false
   },
   "outputs": [
    {
     "data": {
      "text/plain": [
       "2 * 26610173339 * 15854084519418852929290731361"
      ]
     },
     "execution_count": 2,
     "metadata": {
     },
     "output_type": "execute_result"
    }
   ],
   "source": [
    "factor(843759874385784375985948543684586768758)"
   ]
  },
  {
   "cell_type": "code",
   "execution_count": 3,
   "metadata": {
    "collapsed": false
   },
   "outputs": [
    {
     "data": {
      "text/plain": [
       "2 * 5 * 1621 * 613421 * 1687400747 * 123757232614736397551848335865061147 * 733257947272742522541754049165068869512409677"
      ]
     },
     "execution_count": 3,
     "metadata": {
     },
     "output_type": "execute_result"
    }
   ],
   "source": [
    "factor(1522605027922533360535618378132637429718068114961380688657908494580122963258952897654000350692006130)"
   ]
  },
  {
   "cell_type": "code",
   "execution_count": 0,
   "metadata": {
    "collapsed": false
   },
   "outputs": [
   ],
   "source": [
   ]
  }
 ],
 "metadata": {
  "kernelspec": {
   "display_name": "SageMath 9.4",
   "language": "sagemath",
   "metadata": {
    "cocalc": {
     "description": "Open-source mathematical software system",
     "priority": 10,
     "url": "https://www.sagemath.org/"
    }
   },
   "name": "sage-9.4",
   "resource_dir": "/ext/jupyter/kernels/sage-9.4"
  },
  "language_info": {
   "codemirror_mode": {
    "name": "ipython",
    "version": 3
   },
   "file_extension": ".py",
   "mimetype": "text/x-python",
   "name": "python",
   "nbconvert_exporter": "python",
   "pygments_lexer": "ipython3",
   "version": "3.9.5"
  }
 },
 "nbformat": 4,
 "nbformat_minor": 4
}