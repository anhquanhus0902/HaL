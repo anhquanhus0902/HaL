{
 "cells": [
  {
   "cell_type": "code",
   "execution_count": 1,
   "metadata": {
    "collapsed": false
   },
   "outputs": [
   ],
   "source": [
    "import collections\n",
    "import hashlib\n",
    "import random\n",
    "import binascii\n",
    "import sys\n",
    "from Crypto.Cipher import AES\n",
    "\n",
    "\n",
    "\n"
   ]
  },
  {
   "cell_type": "code",
   "execution_count": 0,
   "metadata": {
    "collapsed": false,
    "scrolled": true
   },
   "outputs": [
   ],
   "source": [
    "import Padding"
   ]
  },
  {
   "cell_type": "code",
   "execution_count": 2,
   "metadata": {
    "collapsed": false
   },
   "outputs": [
   ],
   "source": [
    "def enc_long(n):\n",
    "    '''Encodes arbitrarily large number n to a sequence of bytes.\n",
    "    Big endian byte order is used.'''\n",
    "    s = \"\"\n",
    "    while n > 0:\n",
    "        s = chr(n & 0xFF) + s\n",
    "        n >>= 8\n",
    "    return s"
   ]
  },
  {
   "cell_type": "code",
   "execution_count": 3,
   "metadata": {
    "collapsed": false
   },
   "outputs": [
   ],
   "source": [
    "BLOCK_SIZE = 16  # Bytes\n",
    "pad = lambda s: s + (BLOCK_SIZE - len(s) % BLOCK_SIZE) * \\\n",
    "                chr(BLOCK_SIZE - len(s) % BLOCK_SIZE)\n",
    "unpad = lambda s: s[:-ord(s[len(s) - 1:])]"
   ]
  },
  {
   "cell_type": "code",
   "execution_count": 4,
   "metadata": {
    "collapsed": false
   },
   "outputs": [
   ],
   "source": [
    "def encrypt(plaintext,key, mode):\n",
    "\tencobj = AES.new(key,mode)\n",
    "\treturn(encobj.encrypt(plaintext))\n"
   ]
  },
  {
   "cell_type": "code",
   "execution_count": 5,
   "metadata": {
    "collapsed": false
   },
   "outputs": [
   ],
   "source": [
    "def decrypt(ciphertext,key, mode):\n",
    "\tencobj = AES.new(key,mode)\n",
    "\treturn(encobj.decrypt(ciphertext))"
   ]
  },
  {
   "cell_type": "code",
   "execution_count": 6,
   "metadata": {
    "collapsed": false
   },
   "outputs": [
   ],
   "source": [
    "EllipticCurve = collections.namedtuple('EllipticCurve', 'name p a b g n h')"
   ]
  },
  {
   "cell_type": "code",
   "execution_count": 7,
   "metadata": {
    "collapsed": false
   },
   "outputs": [
   ],
   "source": [
    "curve = EllipticCurve(\n",
    "    'secp256k1',\n",
    "    # Field characteristic.\n",
    "    p=0xfffffffffffffffffffffffffffffffffffffffffffffffffffffffefffffc2f,\n",
    "    # Curve coefficients.\n",
    "    a=0,\n",
    "    b=7,\n",
    "    # Base point.\n",
    "    g=(0x79be667ef9dcbbac55a06295ce870b07029bfcdb2dce28d959f2815b16f81798,\n",
    "       0x483ada7726a3c4655da4fbfc0e1108a8fd17b448a68554199c47d08ffb10d4b8),\n",
    "    # Subgroup order.\n",
    "    n=0xfffffffffffffffffffffffffffffffebaaedce6af48a03bbfd25e8cd0364141,\n",
    "    # Subgroup cofactor.\n",
    "    h=1,\n",
    ")"
   ]
  },
  {
   "cell_type": "code",
   "execution_count": 8,
   "metadata": {
    "collapsed": false
   },
   "outputs": [
   ],
   "source": [
    "def inverse_mod(k, p):\n",
    "    \"\"\"Returns the inverse of k modulo p.\n",
    "    This function returns the only integer x such that (x * k) % p == 1.\n",
    "    k must be non-zero and p must be a prime.\n",
    "    \"\"\"\n",
    "    if k == 0:\n",
    "        raise ZeroDivisionError('division by zero')\n",
    "\n",
    "    if k < 0:\n",
    "        # k ** -1 = p - (-k) ** -1  (mod p)\n",
    "        return p - inverse_mod(-k, p)\n",
    "\n",
    "    # Extended Euclidean algorithm.\n",
    "    s, old_s = 0, 1\n",
    "    t, old_t = 1, 0\n",
    "    r, old_r = p, k\n",
    "\n",
    "    while r != 0:\n",
    "        quotient = old_r // r\n",
    "        old_r, r = r, old_r - quotient * r\n",
    "        old_s, s = s, old_s - quotient * s\n",
    "        old_t, t = t, old_t - quotient * t\n",
    "\n",
    "    gcd, x, y = old_r, old_s, old_t\n",
    "\n",
    "    assert gcd == 1\n",
    "    assert (k * x) % p == 1\n",
    "\n",
    "    return x % p"
   ]
  },
  {
   "cell_type": "code",
   "execution_count": 9,
   "metadata": {
    "collapsed": false
   },
   "outputs": [
   ],
   "source": [
    "def is_on_curve(point):\n",
    "    \"\"\"Returns True if the given point lies on the elliptic curve.\"\"\"\n",
    "    if point is None:\n",
    "        # None represents the point at infinity.\n",
    "        return True\n",
    "\n",
    "    x, y = point\n",
    "\n",
    "    return (y * y - x * x * x - curve.a * x - curve.b) % curve.p == 0"
   ]
  },
  {
   "cell_type": "code",
   "execution_count": 10,
   "metadata": {
    "collapsed": false
   },
   "outputs": [
   ],
   "source": [
    "def point_neg(point):\n",
    "    \"\"\"Returns -point.\"\"\"\n",
    "    assert is_on_curve(point)\n",
    "\n",
    "    if point is None:\n",
    "        # -0 = 0\n",
    "        return None\n",
    "\n",
    "    x, y = point\n",
    "    result = (x, -y % curve.p)\n",
    "\n",
    "    assert is_on_curve(result)\n",
    "\n",
    "    return result"
   ]
  },
  {
   "cell_type": "code",
   "execution_count": 11,
   "metadata": {
    "collapsed": false
   },
   "outputs": [
   ],
   "source": [
    "def point_add(point1, point2):\n",
    "    \"\"\"Returns the result of point1 + point2 according to the group law.\"\"\"\n",
    "    assert is_on_curve(point1)\n",
    "    assert is_on_curve(point2)\n",
    "\n",
    "    if point1 is None:\n",
    "        # 0 + point2 = point2\n",
    "        return point2\n",
    "    if point2 is None:\n",
    "        # point1 + 0 = point1\n",
    "        return point1\n",
    "\n",
    "    x1, y1 = point1\n",
    "    x2, y2 = point2\n",
    "\n",
    "    if x1 == x2 and y1 != y2:\n",
    "        # point1 + (-point1) = 0\n",
    "        return None\n",
    "\n",
    "    if x1 == x2:\n",
    "        # This is the case point1 == point2.\n",
    "        m = (3 * x1 * x1 + curve.a) * inverse_mod(2 * y1, curve.p)\n",
    "    else:\n",
    "        # This is the case point1 != point2.\n",
    "        m = (y1 - y2) * inverse_mod(x1 - x2, curve.p)\n",
    "\n",
    "    x3 = m * m - x1 - x2\n",
    "    y3 = y1 + m * (x3 - x1)\n",
    "    result = (x3 % curve.p,\n",
    "              -y3 % curve.p)\n",
    "\n",
    "    assert is_on_curve(result)\n",
    "\n",
    "    return result"
   ]
  },
  {
   "cell_type": "code",
   "execution_count": 12,
   "metadata": {
    "collapsed": false
   },
   "outputs": [
   ],
   "source": [
    "def scalar_mult(k, point):\n",
    "    \"\"\"Returns k * point computed using the double and point_add algorithm.\"\"\"\n",
    "    assert is_on_curve(point)\n",
    "\n",
    "    if k % curve.n == 0 or point is None:\n",
    "        return None\n",
    "\n",
    "    if k < 0:\n",
    "        # k * point = -k * (-point)\n",
    "        return scalar_mult(-k, point_neg(point))\n",
    "\n",
    "    result = None\n",
    "    addend = point\n",
    "\n",
    "    while k:\n",
    "        if k & 1:\n",
    "            # Add.\n",
    "            result = point_add(result, addend)\n",
    "\n",
    "        # Double.\n",
    "        addend = point_add(addend, addend)\n",
    "\n",
    "        k >>= 1\n",
    "\n",
    "    assert is_on_curve(result)\n",
    "\n",
    "    return result"
   ]
  },
  {
   "cell_type": "code",
   "execution_count": 13,
   "metadata": {
    "collapsed": false
   },
   "outputs": [
   ],
   "source": [
    "def make_keypair():\n",
    "    \"\"\"Generates a random private-public key pair.\"\"\"\n",
    "    private_key = random.randrange(1, curve.n)\n",
    "    public_key = scalar_mult(private_key, curve.g)\n",
    "\n",
    "    return private_key, public_key"
   ]
  },
  {
   "cell_type": "code",
   "execution_count": 14,
   "metadata": {
    "collapsed": false
   },
   "outputs": [
   ],
   "source": [
    "def verify_signature(public_key, message, signature):\n",
    "    z = hash_message(message)\n",
    "\n",
    "    r, s = signature\n",
    "\n",
    "    w = inverse_mod(s, curve.n)\n",
    "    u1 = (z * w) % curve.n\n",
    "    u2 = (r * w) % curve.n\n",
    "\n",
    "    x, y = point_add(scalar_mult(u1, curve.g),\n",
    "                     scalar_mult(u2, public_key))\n",
    "\n",
    "    if (r % curve.n) == (x % curve.n):\n",
    "        return 'signature matches'\n",
    "    else:\n",
    "        return 'invalid signature'"
   ]
  },
  {
   "cell_type": "code",
   "execution_count": 15,
   "metadata": {
    "collapsed": false
   },
   "outputs": [
   ],
   "source": [
    "message=\"Hello\"\n",
    "if (len(sys.argv)>1):\n",
    "\tmessage=str(sys.argv[1])"
   ]
  },
  {
   "cell_type": "code",
   "execution_count": 16,
   "metadata": {
    "collapsed": false
   },
   "outputs": [
    {
     "name": "stdout",
     "output_type": "stream",
     "text": [
      "Private key: 0xe620f530a96e3a47cf0ad58beb99a9aaf0414e58ccec5cf71f449592128c52e\n",
      "Public key: (0xf39d58fd3d7c47c0b02104d43cd17a355e0ca2fb8418d6c6a14b09889609676d, 0xc9ad199c11da1bafe7d6ffe376ac768702130db415e5da7097e416abc0c3d375)\n"
     ]
    }
   ],
   "source": [
    "dA, Qa = make_keypair()\n",
    "print(\"Private key:\", hex(dA))\n",
    "print((\"Public key: (0x{:x}, 0x{:x})\".format(*Qa)))"
   ]
  },
  {
   "cell_type": "code",
   "execution_count": 19,
   "metadata": {
    "collapsed": false
   },
   "outputs": [
    {
     "name": "stdout",
     "output_type": "stream",
     "text": [
      "Random value:  125945476372480411682012657926855769563\n",
      "rG:  (77727987616921594621675615650746644005351131759422055612764749389235593014283, 19190430888330267798434745443781823633675860626003424121219317121613703096324)\n",
      "\n",
      "\n",
      "======Symmetric key========\n",
      "Encryption key: 16956040424460820237248880336758516766703512530337594922588882282019587240627 16956040424460820237248880336758516766703512530337594922588882282019587240627\n"
     ]
    }
   ],
   "source": [
    "r = random.randint(0, 2**128)\n",
    "\n",
    "rG = scalar_mult(r,curve.g)\n",
    "S = scalar_mult(r,Qa)\n",
    "print(\"Random value: \" , r)\n",
    "print(\"rG: \" , rG)\n",
    "print(\"\\n\\n======Symmetric key========\")\n",
    "print(\"Encryption key:\",S[0],str(S[0]))\n",
    "password='hello'"
   ]
  },
  {
   "cell_type": "code",
   "execution_count": 0,
   "metadata": {
    "collapsed": false
   },
   "outputs": [
   ],
   "source": [
    "key = hashlib.sha256(str(S[0]).encode()).digest()\n",
    "\n",
    "message = Padding.appendPadding(message,blocksize=Padding.AES_blocksize,mode=0)\n",
    "\n",
    "ciphertext = encrypt(message.encode(),key,AES.MODE_ECB)\n",
    "\n",
    "\n",
    "\n",
    "\n",
    "print(\"Encrypted:\\t\",binascii.hexlify(ciphertext))"
   ]
  },
  {
   "cell_type": "code",
   "execution_count": 0,
   "metadata": {
    "collapsed": false
   },
   "outputs": [
   ],
   "source": [
    "Snew = scalar_mult(dA,rG)\n",
    "key = hashlib.sha256(str(Snew[0]).encode()).digest()\n",
    "\n",
    "text = decrypt(ciphertext,key,AES.MODE_ECB)\n",
    "\n",
    "\n",
    "print(\"Decrypted:\\t\",Padding.removePadding(text.decode(),mode=0))"
   ]
  },
  {
   "cell_type": "code",
   "execution_count": 0,
   "metadata": {
    "collapsed": false
   },
   "outputs": [
   ],
   "source": [
   ]
  }
 ],
 "metadata": {
  "kernelspec": {
   "display_name": "SageMath 9.4",
   "language": "sagemath",
   "metadata": {
    "cocalc": {
     "description": "Open-source mathematical software system",
     "priority": 10,
     "url": "https://www.sagemath.org/"
    }
   },
   "name": "sage-9.4",
   "resource_dir": "/ext/jupyter/kernels/sage-9.4"
  },
  "language_info": {
   "codemirror_mode": {
    "name": "ipython",
    "version": 3
   },
   "file_extension": ".py",
   "mimetype": "text/x-python",
   "name": "python",
   "nbconvert_exporter": "python",
   "pygments_lexer": "ipython3",
   "version": "3.9.5"
  }
 },
 "nbformat": 4,
 "nbformat_minor": 4
}