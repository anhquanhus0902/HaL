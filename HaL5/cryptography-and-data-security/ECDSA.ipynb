{
 "cells": [
  {
   "cell_type": "markdown",
   "metadata": {},
   "source": [
    "Thuật toán ECDSA"
   ]
  },
  {
   "cell_type": "code",
   "execution_count": 80,
   "metadata": {},
   "outputs": [
    {
     "data": {
      "text/plain": [
       "853133"
      ]
     },
     "execution_count": 80,
     "metadata": {},
     "output_type": "execute_result"
    }
   ],
   "source": [
    "p=random_prime(100^3);p"
   ]
  },
  {
   "cell_type": "code",
   "execution_count": 81,
   "metadata": {},
   "outputs": [
    {
     "data": {
      "text/plain": [
       "185650"
      ]
     },
     "execution_count": 81,
     "metadata": {},
     "output_type": "execute_result"
    }
   ],
   "source": [
    "a=randint(2,p);a"
   ]
  },
  {
   "cell_type": "code",
   "execution_count": 82,
   "metadata": {},
   "outputs": [
    {
     "data": {
      "text/plain": [
       "23044"
      ]
     },
     "execution_count": 82,
     "metadata": {},
     "output_type": "execute_result"
    }
   ],
   "source": [
    "b=randint(2,p);b"
   ]
  },
  {
   "cell_type": "code",
   "execution_count": 83,
   "metadata": {},
   "outputs": [
    {
     "data": {
      "text/plain": [
       "Elliptic Curve defined by y^2 = x^3 + 596112*x + 391371 over Finite Field of size 853133"
      ]
     },
     "execution_count": 83,
     "metadata": {},
     "output_type": "execute_result"
    }
   ],
   "source": [
    "E = EllipticCurve(GF(p),a,b);E"
   ]
  },
  {
   "cell_type": "code",
   "execution_count": 84,
   "metadata": {
    "scrolled": true
   },
   "outputs": [
    {
     "data": {
      "text/plain": [
       "853923"
      ]
     },
     "execution_count": 84,
     "metadata": {},
     "output_type": "execute_result"
    }
   ],
   "source": [
    "E.cardinality()"
   ]
  },
  {
   "cell_type": "code",
   "execution_count": 85,
   "metadata": {},
   "outputs": [
    {
     "data": {
      "text/plain": [
       "3 * 7^2 * 37 * 157"
      ]
     },
     "execution_count": 85,
     "metadata": {},
     "output_type": "execute_result"
    }
   ],
   "source": [
    "factor(_)"
   ]
  },
  {
   "cell_type": "code",
   "execution_count": 86,
   "metadata": {},
   "outputs": [
    {
     "data": {
      "text/plain": [
       "(446338 : 249333 : 1)"
      ]
     },
     "execution_count": 86,
     "metadata": {},
     "output_type": "execute_result"
    }
   ],
   "source": [
    "G=E.random_point();G"
   ]
  },
  {
   "cell_type": "code",
   "execution_count": 87,
   "metadata": {},
   "outputs": [
    {
     "data": {
      "text/plain": [
       "853923"
      ]
     },
     "execution_count": 87,
     "metadata": {},
     "output_type": "execute_result"
    }
   ],
   "source": [
    "n=G.order();n"
   ]
  },
  {
   "cell_type": "markdown",
   "metadata": {},
   "source": [
    "Thuật toán sinh khoá: \n",
    "\n",
    "Mỗi người ký (signer) sẽ sinh một cặp khoá bí mật/công khai tương ứng như sau:\n",
    "\n",
    "1.Chọn một số nguyên d ngẫu nhiên, d thuộc [1,n-1];\n",
    "\n",
    "2. Tính Q=dG. Đây là một điểm trên đường cong elliptic;\n",
    "\n",
    "3. Khoá bí mật của người ký là d và khoá công khai tương ứng là Q. \n",
    "\n",
    "Cặp khoá bí mật/công khai (d,Q) còn được gọi là cặp khoá bí mật/công khai dài hạn.\n"
   ]
  },
  {
   "cell_type": "code",
   "execution_count": 88,
   "metadata": {},
   "outputs": [
    {
     "data": {
      "text/plain": [
       "482878"
      ]
     },
     "execution_count": 88,
     "metadata": {},
     "output_type": "execute_result"
    }
   ],
   "source": [
    "d = randint(2, n);d"
   ]
  },
  {
   "cell_type": "code",
   "execution_count": 89,
   "metadata": {},
   "outputs": [
    {
     "data": {
      "text/plain": [
       "(32032 : 404132 : 1)"
      ]
     },
     "execution_count": 89,
     "metadata": {},
     "output_type": "execute_result"
    }
   ],
   "source": [
    "Q = d*G;Q"
   ]
  },
  {
   "cell_type": "markdown",
   "metadata": {},
   "source": [
    "Thuật toán tạo chữ ký số: Để tạo chữ ký số trên một thông điệp m, người ký (signer) thực hiện các tính toán sau:\n",
    "\n",
    "1. Chọn một số nguyên k ngẫu nhiên hoặc giả ngẫu nhiên, k thuộc [1,n-1]. Giá trị k còn được gọi là khoá bí mật tức thời.\n",
    "\n",
    "2. Tính điểm P=kG và viết P=(x,y) và tính r=x mod n. Nếu r=0 thì quay lại Bước 1.\n",
    "\n",
    "3. Sử dụng hàm băm H để tính giá trị băm của thông điệp m: e=H(m). \n",
    "\n",
    "4. Tính s=k^(-1).(e+dr) mod n. Nếu s=0 thì quay lại Bước 1. (Phương trình để tính s còn được gọi Phương trình ký.)\n",
    "\n",
    "5. Đưa ra chữ ký số của thông điệp m là cặp (r,s).\n",
    "\n",
    "Dưới đây ta bỏ qua bước băm (xem lại file SageMath.Hashfunction.ipynb để băm m thành e)"
   ]
  },
  {
   "cell_type": "code",
   "execution_count": 97,
   "metadata": {
    "scrolled": true
   },
   "outputs": [
    {
     "data": {
      "text/plain": [
       "200"
      ]
     },
     "execution_count": 97,
     "metadata": {},
     "output_type": "execute_result"
    }
   ],
   "source": [
    "e=200;e"
   ]
  },
  {
   "cell_type": "code",
   "execution_count": 98,
   "metadata": {},
   "outputs": [
    {
     "data": {
      "text/plain": [
       "539230"
      ]
     },
     "execution_count": 98,
     "metadata": {},
     "output_type": "execute_result"
    }
   ],
   "source": [
    "k = randint(2,n);k"
   ]
  },
  {
   "cell_type": "code",
   "execution_count": 99,
   "metadata": {},
   "outputs": [
    {
     "data": {
      "text/plain": [
       "(729579 : 474748 : 1)"
      ]
     },
     "execution_count": 99,
     "metadata": {},
     "output_type": "execute_result"
    }
   ],
   "source": [
    "P = k * G;P"
   ]
  },
  {
   "cell_type": "code",
   "execution_count": 100,
   "metadata": {},
   "outputs": [
    {
     "data": {
      "text/plain": [
       "729579"
      ]
     },
     "execution_count": 100,
     "metadata": {},
     "output_type": "execute_result"
    }
   ],
   "source": [
    "r = mod(int(P[0]),n);r"
   ]
  },
  {
   "cell_type": "code",
   "execution_count": 101,
   "metadata": {},
   "outputs": [
    {
     "data": {
      "text/plain": [
       "26699"
      ]
     },
     "execution_count": 101,
     "metadata": {},
     "output_type": "execute_result"
    }
   ],
   "source": [
    "s = int(inverse_mod(k,n)*(e+d*r)%n);s"
   ]
  },
  {
   "cell_type": "markdown",
   "metadata": {},
   "source": [
    "Thuật toán xác minh chữ ký số: Sau khi nhận được chữ ký (r,s) của thông điệp m, người xác minh (verifier) thực hiện các tính toán sau:\n",
    "\n",
    "1. Kiểm tra xem r và s có thuộc vào [1,n-1]. Nếu không thuộc thì đưa ra khẳng định “Chữ ký không hợp lệ” và dừng thuật toán.\n",
    "\n",
    "2. Sử dụng hàm băm H để tính e=H(m).\n",
    "\n",
    "3. Tính w=s^(-1) mod n.\n",
    "\n",
    "4. Tính u1=ew và u2=rw.\n",
    "\n",
    "5. Tính điểm X=u1G+u2Q và viết X=(x1,y1).\n",
    "\n",
    "6. Nếu X = oo (vô cùng) thì đưa ra thông báo “Chữ ký không hợp lệ” và dừng thuật toán. Nếu X khác oo, thì tính v=x1 mod n.\n",
    "\n",
    "7. So sánh v và r. Nếu v=r thì đưa ra thông báo “Chữ ký hợp lệ” và dừng thuật toán, ngược lại thì đưa ra thông báo “Chữ ký không hợp lệ” và dừng thuật toán.\n"
   ]
  },
  {
   "cell_type": "code",
   "execution_count": 102,
   "metadata": {},
   "outputs": [
    {
     "data": {
      "text/plain": [
       "1919"
      ]
     },
     "execution_count": 102,
     "metadata": {},
     "output_type": "execute_result"
    }
   ],
   "source": [
    "w=int(inverse_mod(s,n));w"
   ]
  },
  {
   "cell_type": "code",
   "execution_count": 103,
   "metadata": {},
   "outputs": [
    {
     "data": {
      "text/plain": [
       "383800"
      ]
     },
     "execution_count": 103,
     "metadata": {},
     "output_type": "execute_result"
    }
   ],
   "source": [
    "u1=mod(e*w,n);u1"
   ]
  },
  {
   "cell_type": "code",
   "execution_count": 104,
   "metadata": {},
   "outputs": [
    {
     "data": {
      "text/plain": [
       "482304"
      ]
     },
     "execution_count": 104,
     "metadata": {},
     "output_type": "execute_result"
    }
   ],
   "source": [
    "u2=mod(int(r*w),n);u2"
   ]
  },
  {
   "cell_type": "code",
   "execution_count": 105,
   "metadata": {},
   "outputs": [
    {
     "data": {
      "text/plain": [
       "(490206 : 658018 : 1)"
      ]
     },
     "execution_count": 105,
     "metadata": {},
     "output_type": "execute_result"
    }
   ],
   "source": [
    "X=int(u1)*G+int(u2)*Q;M"
   ]
  },
  {
   "cell_type": "code",
   "execution_count": 106,
   "metadata": {},
   "outputs": [
    {
     "data": {
      "text/plain": [
       "490206"
      ]
     },
     "execution_count": 106,
     "metadata": {},
     "output_type": "execute_result"
    }
   ],
   "source": [
    "v=mod(M[0],n);v"
   ]
  },
  {
   "cell_type": "code",
   "execution_count": 79,
   "metadata": {},
   "outputs": [
    {
     "name": "stdout",
     "output_type": "stream",
     "text": [
      "ok\n"
     ]
    }
   ],
   "source": [
    "if v == r:\n",
    "    print(\"ok\")"
   ]
  },
  {
   "cell_type": "code",
   "execution_count": null,
   "metadata": {},
   "outputs": [],
   "source": []
  }
 ],
 "metadata": {
  "kernelspec": {
   "display_name": "SageMath 9.0",
   "language": "sage",
   "name": "sagemath"
  },
  "language_info": {
   "codemirror_mode": {
    "name": "ipython",
    "version": 3
   },
   "file_extension": ".py",
   "mimetype": "text/x-python",
   "name": "python",
   "nbconvert_exporter": "python",
   "pygments_lexer": "ipython3",
   "version": "3.7.3"
  }
 },
 "nbformat": 4,
 "nbformat_minor": 2
}
