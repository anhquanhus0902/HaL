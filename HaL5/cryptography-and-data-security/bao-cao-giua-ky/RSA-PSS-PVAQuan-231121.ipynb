{
 "cells": [
  {
   "cell_type": "markdown",
   "metadata": {
    "collapsed": false
   },
   "source": [
    "Chương trình Sagemath thực thi thuật toán RSA-PSS"
   ]
  },
  {
   "cell_type": "markdown",
   "metadata": {
    "collapsed": false
   },
   "source": [
    "Hàm sinh mặt nạ (MGF-Mask Generation Function)\\\n",
    "*Trong chương trình này, ta sẽ sử dụng hàm băm SHA-1, vậy nên hLen = 20."
   ]
  },
  {
   "cell_type": "code",
   "execution_count": 1,
   "metadata": {
    "collapsed": false
   },
   "outputs": [
    {
     "name": "stdout",
     "output_type": "stream",
     "text": [
      "done\n"
     ]
    }
   ],
   "source": [
    "from Crypto.Util.number import ceil_div, long_to_bytes, size\n",
    "from Crypto.Util.strxor import strxor\n",
    "from Crypto.Util.py3compat import *\n",
    "from Crypto.Hash import SHA1\n",
    "print('done')"
   ]
  },
  {
   "cell_type": "code",
   "execution_count": 2,
   "metadata": {
    "collapsed": false
   },
   "outputs": [
   ],
   "source": [
    "def generate_key(s):\n",
    "    p=random_prime(s);q=random_prime(s);\n",
    "    if p!=q:\n",
    "        n=p*q\n",
    "        phi=(p-1)*(q-1);\n",
    "        ch=True\n",
    "        while ch:\n",
    "            e=randint(2,phi);\n",
    "            if gcd(e,phi)==1:\n",
    "                ch=False\n",
    "        d=xgcd(e,phi)[1] % phi;\n",
    "    return([n,phi,[e,n],[d,n]])"
   ]
  },
  {
   "cell_type": "code",
   "execution_count": 4,
   "metadata": {
    "collapsed": false
   },
   "outputs": [
   ],
   "source": [
    "def mgf1(X, maskLen):\n",
    "    hashfn = SHA1\n",
    "    hLen = hashfn.digest_size\n",
    "    T = b('')\n",
    "    for counter in range(ceil_div(maskLen, hLen)):\n",
    "        C = long_to_bytes(counter, 4)\n",
    "        T += hashfn.new(X + C).digest()\n",
    "    return T[:maskLen]"
   ]
  },
  {
   "cell_type": "code",
   "execution_count": 5,
   "metadata": {
    "collapsed": false
   },
   "outputs": [
   ],
   "source": [
    "def random_octet_string(length):\n",
    "    import random\n",
    "    return bytes([random.randint(0, 255) for _ in range(length)])"
   ]
  },
  {
   "cell_type": "code",
   "execution_count": 10,
   "metadata": {
    "collapsed": false
   },
   "outputs": [
   ],
   "source": [
    "def encoding_message(M, emBits):\n",
    "    hashfn = SHA1\n",
    "    mhash = hashfn.new(str.encode(M))\n",
    "    hLen = hashfn.digest_size\n",
    "    sLen = hLen\n",
    "    # Parameters\n",
    "    emLen = ceil_div(emBits, 8)\n",
    "    padding1 = bchr(0x00) * 8\n",
    "    padding2 = bchr(0x00) *(emLen-sLen-hLen-2) + bchr(0x01)\n",
    "    bc = bchr(0xBC)\n",
    "    ##########\n",
    "    salt = random_octet_string(sLen)\n",
    "    h = hashfn.new(padding1 + mhash.digest() + salt)\n",
    "    db = padding2 + salt\n",
    "    dbMask = mgf1(h.digest(), emLen-hLen-1)\n",
    "    maskedDB = strxor(db, dbMask)\n",
    "    lmask = 0\n",
    "    for i in range(8*emLen-emBits):\n",
    "        lmask = lmask>>1 | 0x80\n",
    "    maskedDB = bchr(bord(maskedDB[0]) & ~lmask) + maskedDB[1:]\n",
    "    em = maskedDB + h.digest() + bc\n",
    "    return em"
   ]
  },
  {
   "cell_type": "code",
   "execution_count": 8,
   "metadata": {
    "collapsed": false
   },
   "outputs": [
   ],
   "source": [
    "def sign(M, pr_key):\n",
    "    d = pr_key[0]\n",
    "    n = pr_key[1]\n",
    "    modBits = size(n)\n",
    "    k = ceil_div(modBits, 8)\n",
    "    em = encoding_message(M, modBits-1)\n",
    "    m = int.from_bytes(em, 'big')\n",
    "    s = (m**d) % n\n",
    "    S = s.to_bytes(k, 'big')\n",
    "    return S"
   ]
  },
  {
   "cell_type": "code",
   "execution_count": 9,
   "metadata": {
    "collapsed": false
   },
   "outputs": [
   ],
   "source": [
    "def decrypt(S, pl_key):\n",
    "    e = pl_key[0]\n",
    "    n = pl_key[1]\n",
    "    s = int.from_bytes(S, 'big')\n",
    "    m = (s**e) % n\n",
    "    modBits = size(n)\n",
    "    emLen = ceil_div(modBits-1, 8)\n",
    "    em = m.to_bytes(emLen, 'big')\n",
    "    return em"
   ]
  },
  {
   "cell_type": "code",
   "execution_count": 12,
   "metadata": {
    "collapsed": false
   },
   "outputs": [
   ],
   "source": [
    "def verify(M, em, emBits):\n",
    "    hashfn = SHA1\n",
    "    hLen = hashfn.digest_size\n",
    "    sLen = hLen\n",
    "    emLen = ceil_div(emBits, 8)\n",
    "    #\n",
    "    padding1 = bchr(0x00) * 8\n",
    "    padding2 = bchr(0x00) *(emLen-sLen-hLen-2) + bchr(0x01)\n",
    "    #\n",
    "    mhash = hashfn.new(str.encode(M))\n",
    "    if emLen < hLen + sLen + 2:\n",
    "        return False\n",
    "    if ord(em[-1:]) != 0xBC:\n",
    "        return False\n",
    "    maskedDB = em[:emLen-hLen-1]\n",
    "    h = em[emLen-hLen-1:-1]\n",
    "    lmask = 0\n",
    "    for i in range(8*emLen-emBits):\n",
    "        lmask = lmask>>1 | 0x80\n",
    "    if lmask & bord(em[0]):\n",
    "        return False\n",
    "    dbMask = mgf1(h, emLen-hLen-1)\n",
    "    db = strxor(maskedDB, dbMask)\n",
    "    db = bchr(bord(db[0]) & ~lmask) + db[1:]\n",
    "    if not db.startswith(padding2):\n",
    "        return False\n",
    "    salt = b('')\n",
    "    salt = db[-sLen:]\n",
    "    h_ = hashfn.new(padding1 + mhash.digest() + salt).digest()\n",
    "    if h == h_:\n",
    "        return True\n",
    "    else:\n",
    "        return False"
   ]
  },
  {
   "cell_type": "code",
   "execution_count": 0,
   "metadata": {
    "collapsed": false
   },
   "outputs": [
   ],
   "source": [
   ]
  }
 ],
 "metadata": {
  "kernelspec": {
   "display_name": "SageMath 9.4",
   "language": "sagemath",
   "metadata": {
    "cocalc": {
     "description": "Open-source mathematical software system",
     "priority": 10,
     "url": "https://www.sagemath.org/"
    }
   },
   "name": "sage-9.4",
   "resource_dir": "/ext/jupyter/kernels/sage-9.4"
  },
  "language_info": {
   "codemirror_mode": {
    "name": "ipython",
    "version": 3
   },
   "file_extension": ".py",
   "mimetype": "text/x-python",
   "name": "python",
   "nbconvert_exporter": "python",
   "pygments_lexer": "ipython3",
   "version": "3.9.5"
  }
 },
 "nbformat": 4,
 "nbformat_minor": 4
}